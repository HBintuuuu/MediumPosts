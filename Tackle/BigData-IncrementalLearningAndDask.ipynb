{
  "nbformat": 4,
  "nbformat_minor": 0,
  "metadata": {
    "colab": {
      "name": "HowToHandleBigFilesOnLowMemory-IncrementalLearning.ipynb",
      "version": "0.3.2",
      "provenance": [],
      "collapsed_sections": [
        "45A-w8c2b3jk",
        "GAEFn6w2cBAy",
        "32g2_Q82nWAi",
        "yJiOYauYePQO"
      ]
    },
    "kernelspec": {
      "name": "python3",
      "display_name": "Python 3"
    }
  },
  "cells": [
    {
      "metadata": {
        "id": "45A-w8c2b3jk",
        "colab_type": "text"
      },
      "cell_type": "markdown",
      "source": [
        "# Initial"
      ]
    },
    {
      "metadata": {
        "id": "6WtyFZD6cbWp",
        "colab_type": "code",
        "colab": {}
      },
      "cell_type": "code",
      "source": [
        "!pip -q install --upgrade --ignore-installed numpy pandas scipy sklearn"
      ],
      "execution_count": 0,
      "outputs": []
    },
    {
      "metadata": {
        "id": "bR_7nQDHtt70",
        "colab_type": "code",
        "colab": {}
      },
      "cell_type": "code",
      "source": [
        "!pip -q install catboost\n",
        "!pip -q install lightgbm"
      ],
      "execution_count": 0,
      "outputs": []
    },
    {
      "metadata": {
        "id": "P-IrGI84NjyG",
        "colab_type": "code",
        "colab": {}
      },
      "cell_type": "code",
      "source": [
        "!pip -q install \"dask[complete]\"\n",
        "!pip -q install \"dask-ml[complete]\""
      ],
      "execution_count": 0,
      "outputs": []
    },
    {
      "metadata": {
        "id": "JxR5tH77_BWS",
        "colab_type": "code",
        "colab": {}
      },
      "cell_type": "code",
      "source": [
        "# https://stackoverflow.com/questions/49853303/how-to-install-pydot-graphviz-on-google-colab?rq=1\n",
        "!pip -q install graphviz \n",
        "!apt-get install graphviz -qq\n",
        "!pip -q install pydot"
      ],
      "execution_count": 0,
      "outputs": []
    },
    {
      "metadata": {
        "id": "HN9y6AADMe6E",
        "colab_type": "code",
        "colab": {}
      },
      "cell_type": "code",
      "source": [
        "# After this restart your kernel using Ctrl+M+. to reset all loaded libraries to latest ones, that we just installed."
      ],
      "execution_count": 0,
      "outputs": []
    },
    {
      "metadata": {
        "id": "32g2_Q82nWAi",
        "colab_type": "text"
      },
      "cell_type": "markdown",
      "source": [
        "# Import"
      ]
    },
    {
      "metadata": {
        "id": "Uu1Dzz0nnX8C",
        "colab_type": "code",
        "colab": {}
      },
      "cell_type": "code",
      "source": [
        "import pandas as pd\n",
        "import numpy as np\n",
        "from multiprocessing import Pool\n",
        "from pandas.io.json import json_normalize\n",
        "from sklearn.pipeline import make_pipeline, Pipeline\n",
        "import matplotlib.pyplot as plt\n",
        "from sklearn.preprocessing import RobustScaler\n",
        "from threading import Thread as trd\n",
        "import queue\n",
        "import json\n",
        "import gc\n",
        "gc.enable()"
      ],
      "execution_count": 0,
      "outputs": []
    },
    {
      "metadata": {
        "id": "GAEFn6w2cBAy",
        "colab_type": "text"
      },
      "cell_type": "markdown",
      "source": [
        "# Initial 2"
      ]
    },
    {
      "metadata": {
        "id": "L3mJPxElhG5Z",
        "colab_type": "code",
        "colab": {}
      },
      "cell_type": "code",
      "source": [
        "from sklearn.datasets import fetch_california_housing"
      ],
      "execution_count": 0,
      "outputs": []
    },
    {
      "metadata": {
        "id": "PSkXiaVsi5Iq",
        "colab_type": "code",
        "colab": {
          "base_uri": "https://localhost:8080/",
          "height": 34
        },
        "outputId": "b0953791-26eb-42af-c5f0-b0130c2c8ba0"
      },
      "cell_type": "code",
      "source": [
        "dictionary = fetch_california_housing()"
      ],
      "execution_count": 3,
      "outputs": [
        {
          "output_type": "stream",
          "text": [
            "Downloading Cal. housing from https://ndownloader.figshare.com/files/5976036 to /root/scikit_learn_data\n"
          ],
          "name": "stderr"
        }
      ]
    },
    {
      "metadata": {
        "id": "1JjhSbxijckH",
        "colab_type": "code",
        "outputId": "a1075167-69d9-4f5a-e4b1-baacf7a07f42",
        "colab": {
          "base_uri": "https://localhost:8080/",
          "height": 34
        }
      },
      "cell_type": "code",
      "source": [
        "dictionary.keys()"
      ],
      "execution_count": 4,
      "outputs": [
        {
          "output_type": "execute_result",
          "data": {
            "text/plain": [
              "dict_keys(['data', 'target', 'feature_names', 'DESCR'])"
            ]
          },
          "metadata": {
            "tags": []
          },
          "execution_count": 4
        }
      ]
    },
    {
      "metadata": {
        "id": "Nb_4NqrThe9t",
        "colab_type": "code",
        "outputId": "d4687540-fe11-43f2-c85d-35030cfd36c1",
        "colab": {
          "base_uri": "https://localhost:8080/",
          "height": 34
        }
      },
      "cell_type": "code",
      "source": [
        "dictionary.data.shape"
      ],
      "execution_count": 5,
      "outputs": [
        {
          "output_type": "execute_result",
          "data": {
            "text/plain": [
              "(20640, 8)"
            ]
          },
          "metadata": {
            "tags": []
          },
          "execution_count": 5
        }
      ]
    },
    {
      "metadata": {
        "id": "pEEodn3zj2_q",
        "colab_type": "code",
        "colab": {}
      },
      "cell_type": "code",
      "source": [
        "xtrain = pd.DataFrame(dictionary.data, index=np.arange(len(dictionary.data)), columns=dictionary.feature_names)\n",
        "xtrain['Target'] = dictionary.target"
      ],
      "execution_count": 0,
      "outputs": []
    },
    {
      "metadata": {
        "id": "2qGQUklxox0h",
        "colab_type": "code",
        "colab": {}
      },
      "cell_type": "code",
      "source": [
        "new_ = xtrain.iloc[:,:2].to_dict('list')\n",
        "new_row = []\n",
        "for i in range(len(xtrain)):\n",
        "  dic_ = {}\n",
        "  for key in new_.keys():\n",
        "    dic_[key] = new_[key][i]\n",
        "  new_row.append(str(dic_))"
      ],
      "execution_count": 0,
      "outputs": []
    },
    {
      "metadata": {
        "id": "lyQK4Y03p8Cc",
        "colab_type": "code",
        "colab": {}
      },
      "cell_type": "code",
      "source": [
        "xtrain['Dict'] = new_row"
      ],
      "execution_count": 0,
      "outputs": []
    },
    {
      "metadata": {
        "id": "0-g28g4tqD4C",
        "colab_type": "code",
        "outputId": "ab7ceafb-b9fa-4d20-8b1c-ace72e42c81a",
        "colab": {
          "base_uri": "https://localhost:8080/",
          "height": 106
        }
      },
      "cell_type": "code",
      "source": [
        "xtrain.head(2)"
      ],
      "execution_count": 9,
      "outputs": [
        {
          "output_type": "execute_result",
          "data": {
            "text/html": [
              "<div>\n",
              "<style scoped>\n",
              "    .dataframe tbody tr th:only-of-type {\n",
              "        vertical-align: middle;\n",
              "    }\n",
              "\n",
              "    .dataframe tbody tr th {\n",
              "        vertical-align: top;\n",
              "    }\n",
              "\n",
              "    .dataframe thead th {\n",
              "        text-align: right;\n",
              "    }\n",
              "</style>\n",
              "<table border=\"1\" class=\"dataframe\">\n",
              "  <thead>\n",
              "    <tr style=\"text-align: right;\">\n",
              "      <th></th>\n",
              "      <th>MedInc</th>\n",
              "      <th>HouseAge</th>\n",
              "      <th>AveRooms</th>\n",
              "      <th>AveBedrms</th>\n",
              "      <th>Population</th>\n",
              "      <th>AveOccup</th>\n",
              "      <th>Latitude</th>\n",
              "      <th>Longitude</th>\n",
              "      <th>Target</th>\n",
              "      <th>Dict</th>\n",
              "    </tr>\n",
              "  </thead>\n",
              "  <tbody>\n",
              "    <tr>\n",
              "      <th>0</th>\n",
              "      <td>8.3252</td>\n",
              "      <td>41.0</td>\n",
              "      <td>6.984127</td>\n",
              "      <td>1.02381</td>\n",
              "      <td>322.0</td>\n",
              "      <td>2.555556</td>\n",
              "      <td>37.88</td>\n",
              "      <td>-122.23</td>\n",
              "      <td>4.526</td>\n",
              "      <td>{'MedInc': 8.3252, 'HouseAge': 41.0}</td>\n",
              "    </tr>\n",
              "    <tr>\n",
              "      <th>1</th>\n",
              "      <td>8.3014</td>\n",
              "      <td>21.0</td>\n",
              "      <td>6.238137</td>\n",
              "      <td>0.97188</td>\n",
              "      <td>2401.0</td>\n",
              "      <td>2.109842</td>\n",
              "      <td>37.86</td>\n",
              "      <td>-122.22</td>\n",
              "      <td>3.585</td>\n",
              "      <td>{'MedInc': 8.3014, 'HouseAge': 21.0}</td>\n",
              "    </tr>\n",
              "  </tbody>\n",
              "</table>\n",
              "</div>"
            ],
            "text/plain": [
              "   MedInc                  ...                                                   Dict\n",
              "0  8.3252                  ...                   {'MedInc': 8.3252, 'HouseAge': 41.0}\n",
              "1  8.3014                  ...                   {'MedInc': 8.3014, 'HouseAge': 21.0}\n",
              "\n",
              "[2 rows x 10 columns]"
            ]
          },
          "metadata": {
            "tags": []
          },
          "execution_count": 9
        }
      ]
    },
    {
      "metadata": {
        "id": "ZgXXGAZOkaCi",
        "colab_type": "code",
        "colab": {}
      },
      "cell_type": "code",
      "source": [
        "for i in range(6):\n",
        "  xtrain = pd.concat([xtrain, xtrain], axis=0, sort=False).reset_index(drop=True)"
      ],
      "execution_count": 0,
      "outputs": []
    },
    {
      "metadata": {
        "id": "21IEArOZk3nJ",
        "colab_type": "code",
        "outputId": "a0d66401-1d36-4e84-8b59-5431219526f2",
        "colab": {
          "base_uri": "https://localhost:8080/",
          "height": 34
        }
      },
      "cell_type": "code",
      "source": [
        "xtrain.shape"
      ],
      "execution_count": 11,
      "outputs": [
        {
          "output_type": "execute_result",
          "data": {
            "text/plain": [
              "(1320960, 10)"
            ]
          },
          "metadata": {
            "tags": []
          },
          "execution_count": 11
        }
      ]
    },
    {
      "metadata": {
        "id": "xEZbtEstk85V",
        "colab_type": "code",
        "colab": {}
      },
      "cell_type": "code",
      "source": [
        "xtrain.reset_index().to_csv(\"train.csv\", index=False)"
      ],
      "execution_count": 0,
      "outputs": []
    },
    {
      "metadata": {
        "id": "WwEFHMx8fbxZ",
        "colab_type": "code",
        "outputId": "f94087d3-9724-4c96-fdf5-123da5b38fa5",
        "colab": {
          "base_uri": "https://localhost:8080/",
          "height": 34
        }
      },
      "cell_type": "code",
      "source": [
        "del xtrain, dictionary, new_row, new_, dic_\n",
        "gc.collect()"
      ],
      "execution_count": 13,
      "outputs": [
        {
          "output_type": "execute_result",
          "data": {
            "text/plain": [
              "143"
            ]
          },
          "metadata": {
            "tags": []
          },
          "execution_count": 13
        }
      ]
    },
    {
      "metadata": {
        "id": "5QU_6EBwdXjR",
        "colab_type": "text"
      },
      "cell_type": "markdown",
      "source": [
        "# Incremental Learning"
      ]
    },
    {
      "metadata": {
        "id": "vhC1BguWtFcz",
        "colab_type": "text"
      },
      "cell_type": "markdown",
      "source": [
        "### Data Exploration:"
      ]
    },
    {
      "metadata": {
        "id": "mHy_qxCjmPuU",
        "colab_type": "code",
        "colab": {}
      },
      "cell_type": "code",
      "source": [
        "!ls"
      ],
      "execution_count": 0,
      "outputs": []
    },
    {
      "metadata": {
        "colab_type": "code",
        "id": "AqSBBruLtL9d",
        "outputId": "30b315c7-f6d3-4c45-934c-e2e7fb631e38",
        "colab": {
          "base_uri": "https://localhost:8080/",
          "height": 34
        }
      },
      "cell_type": "code",
      "source": [
        "part = pd.read_csv(\"train.csv\", nrows=10)\n",
        "part.shape"
      ],
      "execution_count": 0,
      "outputs": [
        {
          "output_type": "execute_result",
          "data": {
            "text/plain": [
              "(10, 11)"
            ]
          },
          "metadata": {
            "tags": []
          },
          "execution_count": 15
        }
      ]
    },
    {
      "metadata": {
        "id": "gWiN2k8WuGDM",
        "colab_type": "code",
        "outputId": "559ea0e3-b25a-4358-b81a-8a4c57e9ae7e",
        "colab": {
          "base_uri": "https://localhost:8080/",
          "height": 106
        }
      },
      "cell_type": "code",
      "source": [
        "columns = part.columns\n",
        "part.head(2)"
      ],
      "execution_count": 0,
      "outputs": [
        {
          "output_type": "execute_result",
          "data": {
            "text/html": [
              "<div>\n",
              "<style scoped>\n",
              "    .dataframe tbody tr th:only-of-type {\n",
              "        vertical-align: middle;\n",
              "    }\n",
              "\n",
              "    .dataframe tbody tr th {\n",
              "        vertical-align: top;\n",
              "    }\n",
              "\n",
              "    .dataframe thead th {\n",
              "        text-align: right;\n",
              "    }\n",
              "</style>\n",
              "<table border=\"1\" class=\"dataframe\">\n",
              "  <thead>\n",
              "    <tr style=\"text-align: right;\">\n",
              "      <th></th>\n",
              "      <th>index</th>\n",
              "      <th>MedInc</th>\n",
              "      <th>HouseAge</th>\n",
              "      <th>AveRooms</th>\n",
              "      <th>AveBedrms</th>\n",
              "      <th>Population</th>\n",
              "      <th>AveOccup</th>\n",
              "      <th>Latitude</th>\n",
              "      <th>Longitude</th>\n",
              "      <th>Target</th>\n",
              "      <th>Dict</th>\n",
              "    </tr>\n",
              "  </thead>\n",
              "  <tbody>\n",
              "    <tr>\n",
              "      <th>0</th>\n",
              "      <td>0</td>\n",
              "      <td>8.3252</td>\n",
              "      <td>41.0</td>\n",
              "      <td>6.984127</td>\n",
              "      <td>1.02381</td>\n",
              "      <td>322.0</td>\n",
              "      <td>2.555556</td>\n",
              "      <td>37.88</td>\n",
              "      <td>-122.23</td>\n",
              "      <td>4.526</td>\n",
              "      <td>{'MedInc': 8.3252, 'HouseAge': 41.0}</td>\n",
              "    </tr>\n",
              "    <tr>\n",
              "      <th>1</th>\n",
              "      <td>1</td>\n",
              "      <td>8.3014</td>\n",
              "      <td>21.0</td>\n",
              "      <td>6.238137</td>\n",
              "      <td>0.97188</td>\n",
              "      <td>2401.0</td>\n",
              "      <td>2.109842</td>\n",
              "      <td>37.86</td>\n",
              "      <td>-122.22</td>\n",
              "      <td>3.585</td>\n",
              "      <td>{'MedInc': 8.3014, 'HouseAge': 21.0}</td>\n",
              "    </tr>\n",
              "  </tbody>\n",
              "</table>\n",
              "</div>"
            ],
            "text/plain": [
              "   index                  ...                                                   Dict\n",
              "0      0                  ...                   {'MedInc': 8.3252, 'HouseAge': 41.0}\n",
              "1      1                  ...                   {'MedInc': 8.3014, 'HouseAge': 21.0}\n",
              "\n",
              "[2 rows x 11 columns]"
            ]
          },
          "metadata": {
            "tags": []
          },
          "execution_count": 16
        }
      ]
    },
    {
      "metadata": {
        "id": "CsvUwefIu-xU",
        "colab_type": "code",
        "colab": {}
      },
      "cell_type": "code",
      "source": [
        "# From above output you will have a basic understanding of type of columns. Divide them so you\n",
        "# can use same function on similar columns (for exploration etc).\n",
        "id_columns = [\"index\"]\n",
        "num_columns = [\"MedInc\", \"HouseAge\", \"AveRooms\", \"AveBedrms\", \"Population\", \"AveOccup\", \"Latitude\", \"Longitude\", \"Target\"]\n",
        "obj_columns = []\n",
        "dict_columns = [\"Dict\"]\n",
        "complex_columns = []"
      ],
      "execution_count": 0,
      "outputs": []
    },
    {
      "metadata": {
        "id": "r3YlxA073ncT",
        "colab_type": "code",
        "colab": {}
      },
      "cell_type": "code",
      "source": [
        "index_col = \"index\"\n",
        "columns_visited = [\"MedInc\", \"HouseAge\", \"AveRooms\"]"
      ],
      "execution_count": 0,
      "outputs": []
    },
    {
      "metadata": {
        "id": "IyL3EFXFAJyu",
        "colab_type": "code",
        "outputId": "ea58f036-972d-4a7a-a6c2-27050f8dceb5",
        "colab": {
          "base_uri": "https://localhost:8080/",
          "height": 195
        }
      },
      "cell_type": "code",
      "source": [
        "col = \"Dict\"\n",
        "df = pd.read_csv(\"train.csv.zip\", usecols = [10])\n",
        "\n",
        "df[col] = df[col].map(lambda x: json.loads(x.replace(\"'\", '\"')))\n",
        "\n",
        "column_as_df = json_normalize(df[col])\n",
        "column_as_df.head()"
      ],
      "execution_count": 0,
      "outputs": [
        {
          "output_type": "execute_result",
          "data": {
            "text/html": [
              "<div>\n",
              "<style scoped>\n",
              "    .dataframe tbody tr th:only-of-type {\n",
              "        vertical-align: middle;\n",
              "    }\n",
              "\n",
              "    .dataframe tbody tr th {\n",
              "        vertical-align: top;\n",
              "    }\n",
              "\n",
              "    .dataframe thead th {\n",
              "        text-align: right;\n",
              "    }\n",
              "</style>\n",
              "<table border=\"1\" class=\"dataframe\">\n",
              "  <thead>\n",
              "    <tr style=\"text-align: right;\">\n",
              "      <th></th>\n",
              "      <th>HouseAge</th>\n",
              "      <th>MedInc</th>\n",
              "    </tr>\n",
              "  </thead>\n",
              "  <tbody>\n",
              "    <tr>\n",
              "      <th>0</th>\n",
              "      <td>41.0</td>\n",
              "      <td>8.3252</td>\n",
              "    </tr>\n",
              "    <tr>\n",
              "      <th>1</th>\n",
              "      <td>21.0</td>\n",
              "      <td>8.3014</td>\n",
              "    </tr>\n",
              "    <tr>\n",
              "      <th>2</th>\n",
              "      <td>52.0</td>\n",
              "      <td>7.2574</td>\n",
              "    </tr>\n",
              "    <tr>\n",
              "      <th>3</th>\n",
              "      <td>52.0</td>\n",
              "      <td>5.6431</td>\n",
              "    </tr>\n",
              "    <tr>\n",
              "      <th>4</th>\n",
              "      <td>52.0</td>\n",
              "      <td>3.8462</td>\n",
              "    </tr>\n",
              "  </tbody>\n",
              "</table>\n",
              "</div>"
            ],
            "text/plain": [
              "   HouseAge  MedInc\n",
              "0      41.0  8.3252\n",
              "1      21.0  8.3014\n",
              "2      52.0  7.2574\n",
              "3      52.0  5.6431\n",
              "4      52.0  3.8462"
            ]
          },
          "metadata": {
            "tags": []
          },
          "execution_count": 19
        }
      ]
    },
    {
      "metadata": {
        "id": "GeW_nDzpB4An",
        "colab_type": "code",
        "colab": {}
      },
      "cell_type": "code",
      "source": [
        "# Explore this column. Check if you want to keep it or not.\n",
        "# If you want to scale this column or LableEncode this column, \n",
        "# do it and maintain a dictionary with all columns as keys and\n",
        "# corresponding Scalar or LabelEncoder or both as values."
      ],
      "execution_count": 0,
      "outputs": []
    },
    {
      "metadata": {
        "id": "XE4ZA4q5l1q0",
        "colab_type": "code",
        "outputId": "06cb9816-3c67-4a40-d1e0-0ae74c1afe8f",
        "colab": {
          "base_uri": "https://localhost:8080/",
          "height": 67
        }
      },
      "cell_type": "code",
      "source": [
        "# Calculate Standard Deviation, check if they are constant...\n",
        "column_as_df.std()"
      ],
      "execution_count": 0,
      "outputs": [
        {
          "output_type": "execute_result",
          "data": {
            "text/plain": [
              "HouseAge    12.585257\n",
              "MedInc       1.899776\n",
              "dtype: float64"
            ]
          },
          "metadata": {
            "tags": []
          },
          "execution_count": 20
        }
      ]
    },
    {
      "metadata": {
        "id": "96nFdSBatrEc",
        "colab_type": "code",
        "outputId": "b6b2e9b0-0cfa-4dc0-f17b-53435398c74f",
        "colab": {
          "base_uri": "https://localhost:8080/",
          "height": 364
        }
      },
      "cell_type": "code",
      "source": [
        "column_as_df.plot.kde()"
      ],
      "execution_count": 0,
      "outputs": [
        {
          "output_type": "execute_result",
          "data": {
            "text/plain": [
              "<matplotlib.axes._subplots.AxesSubplot at 0x7f3699d0fcc0>"
            ]
          },
          "metadata": {
            "tags": []
          },
          "execution_count": 124
        },
        {
          "output_type": "display_data",
          "data": {
            "image/png": "[encoded data removed]",
            "text/plain": [
              "<matplotlib.figure.Figure at 0x7f3667a31f98>"
            ]
          },
          "metadata": {
            "tags": []
          }
        }
      ]
    },
    {
      "metadata": {
        "id": "OM62b5QipQNP",
        "colab_type": "code",
        "colab": {}
      },
      "cell_type": "code",
      "source": [
        "columns_selected = ['MedInc', 'HouseAge', 'AveRooms', 'AveBedrms', 'Population', 'AveOccup', 'Latitude', 'Longitude', 'Target']"
      ],
      "execution_count": 0,
      "outputs": []
    },
    {
      "metadata": {
        "id": "Qb3ZWBRlosY0",
        "colab_type": "code",
        "colab": {}
      },
      "cell_type": "code",
      "source": [
        "preprocessing_pipeline = {col: [] for col in columns_selected}"
      ],
      "execution_count": 0,
      "outputs": []
    },
    {
      "metadata": {
        "id": "44Gu-D6tpqbP",
        "colab_type": "code",
        "colab": {}
      },
      "cell_type": "code",
      "source": [
        "# Here I am doing all at once. But you can do it column by column.\n",
        "data = pd.read_csv(\"train.csv\")\n",
        "for col_ in columns_selected:\n",
        "  rsc = RobustScaler()\n",
        "  rsc.fit(data[col_].values.reshape(-1, 1)) # You have to do this for RobustScaler...\n",
        "  preprocessing_pipeline[col_].append(rsc)"
      ],
      "execution_count": 0,
      "outputs": []
    },
    {
      "metadata": {
        "id": "owZ7c_c7zl1-",
        "colab_type": "code",
        "colab": {}
      },
      "cell_type": "code",
      "source": [
        "import pickle\n",
        "with open(\"pipeline.pickle\", \"wb\") as fle:\n",
        "  pickle.dump(preprocessing_pipeline, fle)\n",
        "!ls"
      ],
      "execution_count": 0,
      "outputs": []
    },
    {
      "metadata": {
        "id": "2A4Rvd5vwaaf",
        "colab_type": "text"
      },
      "cell_type": "markdown",
      "source": [
        "**Note:**\n",
        "\n",
        "If even one column of dataset is larger than your memory, then you can open that column incrementally (by using `chunksize` parameter in `pd.read_csv`), applying some transformation (maybe keeping it in a `np.float32` if its a number or maybe keeping only relevant part of a string and throwing all other away.)\n",
        "\n",
        "But if that column is not fitting into your memory, you can use `Dask`. (see last section)"
      ]
    },
    {
      "metadata": {
        "id": "iNVpOm4Vhwz_",
        "colab_type": "text"
      },
      "cell_type": "markdown",
      "source": [
        "### Preprocessing method:"
      ]
    },
    {
      "metadata": {
        "id": "5Cc0jrK9GCHC",
        "colab_type": "code",
        "colab": {}
      },
      "cell_type": "code",
      "source": [
        "# After opening dictionary columns these will change, you can change it to reflect that.\n",
        "id_columns = []\n",
        "num_columns = [\"MedInc\", \"HouseAge\", \"AveRooms\", \"AveBedrms\", \"Population\", \"AveOccup\", \"Latitude\", \"Longitude\", \"Target\"]\n",
        "obj_columns = []\n",
        "dict_columns = []\n",
        "complex_columns = []"
      ],
      "execution_count": 0,
      "outputs": []
    },
    {
      "metadata": {
        "id": "vSim3GVjohCd",
        "colab_type": "code",
        "colab": {}
      },
      "cell_type": "code",
      "source": [
        "columns_to_drop_completely = [\"index\", \"Dict\"]"
      ],
      "execution_count": 0,
      "outputs": []
    },
    {
      "metadata": {
        "id": "xC9huFOkhwh_",
        "colab_type": "code",
        "colab": {}
      },
      "cell_type": "code",
      "source": [
        "# Now that you have a dictionary which has all the columns you need as keys\n",
        "# and corresponding methods you want to apply to that column sequentially,\n",
        "# you can make a preprocesing method which will be used to clean data at\n",
        "# every incremental step.\n",
        "\n",
        "def preprocess(df):\n",
        "  df.reset_index(drop=True, inplace=True)\n",
        "  df = df.drop(columns_to_drop_completely, axis=1)\n",
        "  \n",
        "  # For dict columns:\n",
        "  for col in dict_columns:\n",
        "    if col not in df.columns: pass\n",
        "    col_df = json_normalize(df[col])                                            # You are already doing json.loads during pd.read_csv to convert string to dict\n",
        "    col_df.columns = [f\"{col}.{subcolumn}\" for subcolumn in col_df.columns]\n",
        "    selected_columns = [c for c in dictionary.keys() if c in col_df.columns()]  # Select all columns from this dict-column which we selected before\n",
        "    to_drop = [c for c in col_df.columns if c not in selected_columns]\n",
        "    col_df = col_df.drop(to_drop, axis=1)                                       # Drop all previously unselected sub-columns from this dict_column\n",
        "    \n",
        "    df = df.drop([col], axis=1).merge(col_df, right_index=True, left_index=True)\n",
        "    \n",
        "  # And so on...\n",
        "  \n",
        "  # And then apply all Scalars, LabelEncoders to all columns selected...\n",
        "  for col_ in columns_selected:\n",
        "    # RobustScaler at position 0\n",
        "    rsc = preprocessing_pipeline[col_][0]\n",
        "    df[col_] = rsc.transform(df[col_].values.reshape(-1, 1)).reshape(1, -1)[0] # Because of RobustScaler\n",
        "  \n",
        "  return df"
      ],
      "execution_count": 0,
      "outputs": []
    },
    {
      "metadata": {
        "id": "Cs1Id8TeEQ-E",
        "colab_type": "text"
      },
      "cell_type": "markdown",
      "source": [
        "**Note:**\n",
        "\n",
        "One thing to notice here is that we fitted methods (like LabelEncoder's, Scalars's etc.) during exploration to **whole** data column and we will use that to transform data at every incremental step here. Because, in each batch, there might be some data missing and if we had used different LabelEncoder's, Scaler's etc. for each batch, these methods wouldn't have given same result for same category (say). That's why to be on safe side, we already have fitted to whole columns during exploration."
      ]
    },
    {
      "metadata": {
        "id": "yJiOYauYePQO",
        "colab_type": "text"
      },
      "cell_type": "markdown",
      "source": [
        "### Method 1: Using Pandas"
      ]
    },
    {
      "metadata": {
        "id": "PEgsCVSZuefl",
        "colab_type": "code",
        "colab": {}
      },
      "cell_type": "code",
      "source": [
        "import lightgbm as lgb\n",
        "import xgboost as xgb\n",
        "import catboost as cb # CatBoost is currently making its incremental learner: https://github.com/catboost/catboost/issues/464\n",
        "from sklearn.model_selection import train_test_split"
      ],
      "execution_count": 0,
      "outputs": []
    },
    {
      "metadata": {
        "id": "u_iS928pdouO",
        "colab_type": "code",
        "colab": {}
      },
      "cell_type": "code",
      "source": [
        "incremental_dataframe = pd.read_csv(\"train.csv.zip\", chunksize=100000) # Number of lines to read.\n",
        "# This method will return a kind of sequential file reader reading 'chunksize' lines every time.\n",
        "# To read file from starting again, you will have to call this method again."
      ],
      "execution_count": 0,
      "outputs": []
    },
    {
      "metadata": {
        "id": "orP3rs6c8lVY",
        "colab_type": "code",
        "colab": {}
      },
      "cell_type": "code",
      "source": [
        "lgb_params = {\n",
        "  'objective': 'regression',\n",
        "  'verbosity': 0,\n",
        "}\n",
        "# First three are necessary for incremental learning.\n",
        "xgb_params = {\n",
        "  'update':'refresh',\n",
        "  'process_type': 'update',\n",
        "  'refresh_leaf': True,\n",
        "  'silent': True,\n",
        "  }"
      ],
      "execution_count": 0,
      "outputs": []
    },
    {
      "metadata": {
        "id": "Ck6sR_Rl50WQ",
        "colab_type": "text"
      },
      "cell_type": "markdown",
      "source": [
        "For intro on Parallel programming in Python read my post [here](https://towardsdatascience.com/speed-up-your-algorithms-part-3-parallelization-4d95c0888748)."
      ]
    },
    {
      "metadata": {
        "id": "vLA0b2cNe1Ph",
        "colab_type": "code",
        "outputId": "4b432342-af02-4b03-bcdd-165bc345bd10",
        "colab": {
          "base_uri": "https://localhost:8080/",
          "height": 1042
        }
      },
      "cell_type": "code",
      "source": [
        "# For saving regressor for next use.\n",
        "lgb_estimator = None\n",
        "xgb_estimator = None\n",
        "\n",
        "for df in incremental_dataframe:\n",
        "  df = preprocess(df)\n",
        "  \n",
        "  xtrain, xvalid, ytrain,  yvalid = train_test_split(df.drop(['Target'], axis=1), df['Target'] )\n",
        "\n",
        "  lgb_estimator = lgb.train(lgb_params,\n",
        "                         init_model=lgb_estimator, # Pass partially trained model\n",
        "                         train_set=lgb.Dataset(xtrain, ytrain),\n",
        "                         valid_sets=[lgb.Dataset(xvalid, yvalid)],\n",
        "                         valid_names=[\"Valid\"],\n",
        "                         early_stopping_rounds = 50,\n",
        "                         keep_training_booster=True, # For incremental learning\n",
        "                         num_boost_round=70,\n",
        "                         verbose_eval=50) # Output after each of 50th times\n",
        "  \n",
        "  #xgb_model = xgb.train(xgb_params, dtrain=(xtrain, ytrain),\n",
        "  #                      evals = (xgb.DMatrix(x_tr, y_tr), \"Valid\"),\n",
        "  #                      xgb_model = xgb_estimator) # Pass partially trained model\n",
        "  \n",
        "  del df, xtrain, ytrain, xvalid, yvalid\n",
        "  gc.collect()"
      ],
      "execution_count": 0,
      "outputs": [
        {
          "output_type": "stream",
          "text": [
            "Training until validation scores don't improve for 50 rounds.\n",
            "[50]\tValid's l2: 0.0963618\n",
            "Did not meet early stopping. Best iteration is:\n",
            "[70]\tValid's l2: 0.0864367\n",
            "Training until validation scores don't improve for 50 rounds.\n",
            "[100]\tValid's l2: 0.0743662\n",
            "Did not meet early stopping. Best iteration is:\n",
            "[140]\tValid's l2: 0.0663257\n",
            "Training until validation scores don't improve for 50 rounds.\n",
            "[150]\tValid's l2: 0.0630322\n",
            "[200]\tValid's l2: 0.0560808\n",
            "Did not meet early stopping. Best iteration is:\n",
            "[210]\tValid's l2: 0.054903\n",
            "Training until validation scores don't improve for 50 rounds.\n",
            "[250]\tValid's l2: 0.0475982\n",
            "Did not meet early stopping. Best iteration is:\n",
            "[280]\tValid's l2: 0.0452189\n",
            "Training until validation scores don't improve for 50 rounds.\n",
            "[300]\tValid's l2: 0.0434777\n",
            "[350]\tValid's l2: 0.0399569\n",
            "Did not meet early stopping. Best iteration is:\n",
            "[350]\tValid's l2: 0.0399569\n",
            "Training until validation scores don't improve for 50 rounds.\n",
            "[400]\tValid's l2: 0.0358432\n",
            "Did not meet early stopping. Best iteration is:\n",
            "[420]\tValid's l2: 0.034916\n",
            "Training until validation scores don't improve for 50 rounds.\n",
            "[450]\tValid's l2: 0.0324789\n",
            "Did not meet early stopping. Best iteration is:\n",
            "[490]\tValid's l2: 0.0307512\n",
            "Training until validation scores don't improve for 50 rounds.\n",
            "[500]\tValid's l2: 0.0302787\n",
            "[550]\tValid's l2: 0.0282038\n",
            "Did not meet early stopping. Best iteration is:\n",
            "[560]\tValid's l2: 0.0278374\n",
            "Training until validation scores don't improve for 50 rounds.\n",
            "[600]\tValid's l2: 0.025847\n",
            "Did not meet early stopping. Best iteration is:\n",
            "[630]\tValid's l2: 0.0249167\n",
            "Training until validation scores don't improve for 50 rounds.\n",
            "[650]\tValid's l2: 0.0234998\n",
            "[700]\tValid's l2: 0.022146\n",
            "Did not meet early stopping. Best iteration is:\n",
            "[700]\tValid's l2: 0.022146\n",
            "Training until validation scores don't improve for 50 rounds.\n",
            "[750]\tValid's l2: 0.0203596\n",
            "Did not meet early stopping. Best iteration is:\n",
            "[770]\tValid's l2: 0.019881\n",
            "Training until validation scores don't improve for 50 rounds.\n",
            "[800]\tValid's l2: 0.0188786\n",
            "Did not meet early stopping. Best iteration is:\n",
            "[840]\tValid's l2: 0.0180671\n",
            "Training until validation scores don't improve for 50 rounds.\n",
            "[850]\tValid's l2: 0.0173369\n",
            "[900]\tValid's l2: 0.016562\n",
            "Did not meet early stopping. Best iteration is:\n",
            "[910]\tValid's l2: 0.016357\n",
            "Training until validation scores don't improve for 50 rounds.\n",
            "[950]\tValid's l2: 0.0173281\n",
            "Early stopping, best iteration is:\n",
            "[911]\tValid's l2: 0.0170706\n"
          ],
          "name": "stdout"
        }
      ]
    },
    {
      "metadata": {
        "id": "y9cC-f2z3U5j",
        "colab_type": "code",
        "colab": {}
      },
      "cell_type": "code",
      "source": [
        "test = pd.read_csv(\"train.csv\", nrows = 10000)"
      ],
      "execution_count": 0,
      "outputs": []
    },
    {
      "metadata": {
        "id": "H1gnks4g1VPB",
        "colab_type": "code",
        "outputId": "cbb2bba9-7e09-46c0-9da3-4565c945341f",
        "colab": {
          "base_uri": "https://localhost:8080/",
          "height": 364
        }
      },
      "cell_type": "code",
      "source": [
        "preds = lgb_estimator.predict(preprocess(test).drop(['Target'], axis=1))\n",
        "preds = preprocessing_pipeline['Target'][0].inverse_transform(preds.reshape(-1, 1)).reshape(1, -1)[0]\n",
        "true = test['Target']\n",
        "plt.scatter(preds, true)"
      ],
      "execution_count": 0,
      "outputs": [
        {
          "output_type": "execute_result",
          "data": {
            "text/plain": [
              "<matplotlib.collections.PathCollection at 0x7f229a7b9ac8>"
            ]
          },
          "metadata": {
            "tags": []
          },
          "execution_count": 76
        },
        {
          "output_type": "display_data",
          "data": {
            "image/png": "[encoded data removed]",
            "text/plain": [
              "<matplotlib.figure.Figure at 0x7f229a07d4e0>"
            ]
          },
          "metadata": {
            "tags": []
          }
        }
      ]
    },
    {
      "metadata": {
        "id": "zv11-9iJ5asg",
        "colab_type": "text"
      },
      "cell_type": "markdown",
      "source": [
        "# Method 2: Using Dask:\n",
        "\n",
        "\n",
        "\n",
        "For intro on Dask read my post [here](https://towardsdatascience.com/speeding-up-your-algorithms-part-4-dask-7c6ed79994ef).\n",
        "\n",
        "**Note:**\n",
        "You should only use `Dask` in case of Big Data, where it is not able to fit in your memory."
      ]
    },
    {
      "metadata": {
        "id": "rctiXDgnZ9tg",
        "colab_type": "code",
        "colab": {}
      },
      "cell_type": "code",
      "source": [
        "import dask"
      ],
      "execution_count": 0,
      "outputs": []
    },
    {
      "metadata": {
        "id": "v0Hcj6ih5aNv",
        "colab_type": "code",
        "outputId": "ed426b21-6dee-4874-a921-b6c14bf5c823",
        "colab": {
          "base_uri": "https://localhost:8080/",
          "height": 123
        }
      },
      "cell_type": "code",
      "source": [
        "import dask.dataframe as dd\n",
        "from dask.distributed import Client\n",
        "client = Client(processes=False, threads_per_worker=4, n_workers=4, memory_limit='8GB')\n",
        "client"
      ],
      "execution_count": 15,
      "outputs": [
        {
          "output_type": "execute_result",
          "data": {
            "text/html": [
              "<table style=\"border: 2px solid white;\">\n",
              "<tr>\n",
              "<td style=\"vertical-align: top; border: 0px solid white\">\n",
              "<h3>Client</h3>\n",
              "<ul>\n",
              "  <li><b>Scheduler: </b>inproc://172.28.0.2/805/1\n",
              "</ul>\n",
              "</td>\n",
              "<td style=\"vertical-align: top; border: 0px solid white\">\n",
              "<h3>Cluster</h3>\n",
              "<ul>\n",
              "  <li><b>Workers: </b>4</li>\n",
              "  <li><b>Cores: </b>16</li>\n",
              "  <li><b>Memory: </b>32.00 GB</li>\n",
              "</ul>\n",
              "</td>\n",
              "</tr>\n",
              "</table>"
            ],
            "text/plain": [
              "<Client: scheduler='inproc://172.28.0.2/805/1' processes=4 cores=16>"
            ]
          },
          "metadata": {
            "tags": []
          },
          "execution_count": 15
        }
      ]
    },
    {
      "metadata": {
        "id": "rPLfUVQU38ip",
        "colab_type": "code",
        "colab": {}
      },
      "cell_type": "code",
      "source": [
        "df = dd.read_csv(\"train.csv\", blocksize=25e6)"
      ],
      "execution_count": 0,
      "outputs": []
    },
    {
      "metadata": {
        "id": "GxrLksfT8_od",
        "colab_type": "code",
        "outputId": "00db78e6-a29f-4a46-d516-ec0c8b23ed8b",
        "colab": {
          "base_uri": "https://localhost:8080/",
          "height": 34
        }
      },
      "cell_type": "code",
      "source": [
        "df.npartitions"
      ],
      "execution_count": 17,
      "outputs": [
        {
          "output_type": "execute_result",
          "data": {
            "text/plain": [
              "8"
            ]
          },
          "metadata": {
            "tags": []
          },
          "execution_count": 17
        }
      ]
    },
    {
      "metadata": {
        "id": "_p9Uudi--uNO",
        "colab_type": "code",
        "outputId": "139e59c9-b8f7-4f98-efa4-69782e31bc82",
        "colab": {
          "base_uri": "https://localhost:8080/",
          "height": 351
        }
      },
      "cell_type": "code",
      "source": [
        "df.visualize(size=\"7,5!\")"
      ],
      "execution_count": 18,
      "outputs": [
        {
          "output_type": "execute_result",
          "data": {
            "image/png": "[encoded data removed]",
            "text/plain": [
              "<IPython.core.display.Image object>"
            ]
          },
          "metadata": {
            "tags": []
          },
          "execution_count": 18
        }
      ]
    },
    {
      "metadata": {
        "id": "JPX2QoiN--MC",
        "colab_type": "code",
        "outputId": "dd50e404-8f0b-4a15-9798-618b8d62f854",
        "colab": {
          "base_uri": "https://localhost:8080/",
          "height": 195
        }
      },
      "cell_type": "code",
      "source": [
        "df.head()"
      ],
      "execution_count": 19,
      "outputs": [
        {
          "output_type": "execute_result",
          "data": {
            "text/html": [
              "<div>\n",
              "<style scoped>\n",
              "    .dataframe tbody tr th:only-of-type {\n",
              "        vertical-align: middle;\n",
              "    }\n",
              "\n",
              "    .dataframe tbody tr th {\n",
              "        vertical-align: top;\n",
              "    }\n",
              "\n",
              "    .dataframe thead th {\n",
              "        text-align: right;\n",
              "    }\n",
              "</style>\n",
              "<table border=\"1\" class=\"dataframe\">\n",
              "  <thead>\n",
              "    <tr style=\"text-align: right;\">\n",
              "      <th></th>\n",
              "      <th>index</th>\n",
              "      <th>MedInc</th>\n",
              "      <th>HouseAge</th>\n",
              "      <th>AveRooms</th>\n",
              "      <th>AveBedrms</th>\n",
              "      <th>Population</th>\n",
              "      <th>AveOccup</th>\n",
              "      <th>Latitude</th>\n",
              "      <th>Longitude</th>\n",
              "      <th>Target</th>\n",
              "      <th>Dict</th>\n",
              "    </tr>\n",
              "  </thead>\n",
              "  <tbody>\n",
              "    <tr>\n",
              "      <th>0</th>\n",
              "      <td>0</td>\n",
              "      <td>8.3252</td>\n",
              "      <td>41.0</td>\n",
              "      <td>6.984127</td>\n",
              "      <td>1.023810</td>\n",
              "      <td>322.0</td>\n",
              "      <td>2.555556</td>\n",
              "      <td>37.88</td>\n",
              "      <td>-122.23</td>\n",
              "      <td>4.526</td>\n",
              "      <td>{'MedInc': 8.3252, 'HouseAge': 41.0}</td>\n",
              "    </tr>\n",
              "    <tr>\n",
              "      <th>1</th>\n",
              "      <td>1</td>\n",
              "      <td>8.3014</td>\n",
              "      <td>21.0</td>\n",
              "      <td>6.238137</td>\n",
              "      <td>0.971880</td>\n",
              "      <td>2401.0</td>\n",
              "      <td>2.109842</td>\n",
              "      <td>37.86</td>\n",
              "      <td>-122.22</td>\n",
              "      <td>3.585</td>\n",
              "      <td>{'MedInc': 8.3014, 'HouseAge': 21.0}</td>\n",
              "    </tr>\n",
              "    <tr>\n",
              "      <th>2</th>\n",
              "      <td>2</td>\n",
              "      <td>7.2574</td>\n",
              "      <td>52.0</td>\n",
              "      <td>8.288136</td>\n",
              "      <td>1.073446</td>\n",
              "      <td>496.0</td>\n",
              "      <td>2.802260</td>\n",
              "      <td>37.85</td>\n",
              "      <td>-122.24</td>\n",
              "      <td>3.521</td>\n",
              "      <td>{'MedInc': 7.2574, 'HouseAge': 52.0}</td>\n",
              "    </tr>\n",
              "    <tr>\n",
              "      <th>3</th>\n",
              "      <td>3</td>\n",
              "      <td>5.6431</td>\n",
              "      <td>52.0</td>\n",
              "      <td>5.817352</td>\n",
              "      <td>1.073059</td>\n",
              "      <td>558.0</td>\n",
              "      <td>2.547945</td>\n",
              "      <td>37.85</td>\n",
              "      <td>-122.25</td>\n",
              "      <td>3.413</td>\n",
              "      <td>{'MedInc': 5.6431, 'HouseAge': 52.0}</td>\n",
              "    </tr>\n",
              "    <tr>\n",
              "      <th>4</th>\n",
              "      <td>4</td>\n",
              "      <td>3.8462</td>\n",
              "      <td>52.0</td>\n",
              "      <td>6.281853</td>\n",
              "      <td>1.081081</td>\n",
              "      <td>565.0</td>\n",
              "      <td>2.181467</td>\n",
              "      <td>37.85</td>\n",
              "      <td>-122.25</td>\n",
              "      <td>3.422</td>\n",
              "      <td>{'MedInc': 3.8462, 'HouseAge': 52.0}</td>\n",
              "    </tr>\n",
              "  </tbody>\n",
              "</table>\n",
              "</div>"
            ],
            "text/plain": [
              "   index                  ...                                                   Dict\n",
              "0      0                  ...                   {'MedInc': 8.3252, 'HouseAge': 41.0}\n",
              "1      1                  ...                   {'MedInc': 8.3014, 'HouseAge': 21.0}\n",
              "2      2                  ...                   {'MedInc': 7.2574, 'HouseAge': 52.0}\n",
              "3      3                  ...                   {'MedInc': 5.6431, 'HouseAge': 52.0}\n",
              "4      4                  ...                   {'MedInc': 3.8462, 'HouseAge': 52.0}\n",
              "\n",
              "[5 rows x 11 columns]"
            ]
          },
          "metadata": {
            "tags": []
          },
          "execution_count": 19
        }
      ]
    },
    {
      "metadata": {
        "id": "83MkYBUUOXhc",
        "colab_type": "text"
      },
      "cell_type": "markdown",
      "source": [
        "**NOTE:**\n",
        "\n",
        "`Dask` doesn't have equivalent fucntion of `pandas`'s `json_normalize`. But we can use `Dask`'s `to_bag` function and `bag`'s capability to handle JSON to our advantage."
      ]
    },
    {
      "metadata": {
        "id": "5MRTDdZnMd2n",
        "colab_type": "text"
      },
      "cell_type": "markdown",
      "source": [
        "This method is taken from a great kernel by [Misha Lisovyi](https://www.kaggle.com/mlisovyi), [here](https://www.kaggle.com/mlisovyi/bigdata-dask-pandas-flat-json-trim-data-upd), on Kaggle."
      ]
    },
    {
      "metadata": {
        "id": "81rpOyD1_cBO",
        "colab_type": "code",
        "colab": {}
      },
      "cell_type": "code",
      "source": [
        "# Convert string Series to dictionary Series\n",
        "df['Dict'] = df['Dict'].apply(lambda x: json.loads(x.replace(\"'\", '\"')), meta=('Dict', 'f8'))"
      ],
      "execution_count": 0,
      "outputs": []
    },
    {
      "metadata": {
        "id": "aGsdK3ddNjJa",
        "colab_type": "code",
        "colab": {}
      },
      "cell_type": "code",
      "source": [
        "dict_col_keys = {\n",
        "    'Dict': ['MedInc', 'HouseAge']\n",
        "}"
      ],
      "execution_count": 0,
      "outputs": []
    },
    {
      "metadata": {
        "id": "5l6gQLUiOLdd",
        "colab_type": "code",
        "colab": {}
      },
      "cell_type": "code",
      "source": [
        "for dic_col in dict_col_keys:\n",
        "  for key in dict_col_keys[dic_col]:\n",
        "    df[f'{dic_col}.{key}'] = df[dic_col].to_bag().pluck(key).to_dataframe().iloc[:,0]"
      ],
      "execution_count": 0,
      "outputs": []
    },
    {
      "metadata": {
        "id": "TpDNWPiPPa8X",
        "colab_type": "code",
        "colab": {
          "base_uri": "https://localhost:8080/",
          "height": 195
        },
        "outputId": "9d3caa05-78a6-4ae2-92fa-b202da17a36b"
      },
      "cell_type": "code",
      "source": [
        "df.head()"
      ],
      "execution_count": 23,
      "outputs": [
        {
          "output_type": "execute_result",
          "data": {
            "text/html": [
              "<div>\n",
              "<style scoped>\n",
              "    .dataframe tbody tr th:only-of-type {\n",
              "        vertical-align: middle;\n",
              "    }\n",
              "\n",
              "    .dataframe tbody tr th {\n",
              "        vertical-align: top;\n",
              "    }\n",
              "\n",
              "    .dataframe thead th {\n",
              "        text-align: right;\n",
              "    }\n",
              "</style>\n",
              "<table border=\"1\" class=\"dataframe\">\n",
              "  <thead>\n",
              "    <tr style=\"text-align: right;\">\n",
              "      <th></th>\n",
              "      <th>index</th>\n",
              "      <th>MedInc</th>\n",
              "      <th>HouseAge</th>\n",
              "      <th>AveRooms</th>\n",
              "      <th>AveBedrms</th>\n",
              "      <th>Population</th>\n",
              "      <th>AveOccup</th>\n",
              "      <th>Latitude</th>\n",
              "      <th>Longitude</th>\n",
              "      <th>Target</th>\n",
              "      <th>Dict</th>\n",
              "      <th>Dict.MedInc</th>\n",
              "      <th>Dict.HouseAge</th>\n",
              "    </tr>\n",
              "  </thead>\n",
              "  <tbody>\n",
              "    <tr>\n",
              "      <th>0</th>\n",
              "      <td>0</td>\n",
              "      <td>8.3252</td>\n",
              "      <td>41.0</td>\n",
              "      <td>6.984127</td>\n",
              "      <td>1.023810</td>\n",
              "      <td>322.0</td>\n",
              "      <td>2.555556</td>\n",
              "      <td>37.88</td>\n",
              "      <td>-122.23</td>\n",
              "      <td>4.526</td>\n",
              "      <td>{'MedInc': 8.3252, 'HouseAge': 41.0}</td>\n",
              "      <td>8.3252</td>\n",
              "      <td>41.0</td>\n",
              "    </tr>\n",
              "    <tr>\n",
              "      <th>1</th>\n",
              "      <td>1</td>\n",
              "      <td>8.3014</td>\n",
              "      <td>21.0</td>\n",
              "      <td>6.238137</td>\n",
              "      <td>0.971880</td>\n",
              "      <td>2401.0</td>\n",
              "      <td>2.109842</td>\n",
              "      <td>37.86</td>\n",
              "      <td>-122.22</td>\n",
              "      <td>3.585</td>\n",
              "      <td>{'MedInc': 8.3014, 'HouseAge': 21.0}</td>\n",
              "      <td>8.3014</td>\n",
              "      <td>21.0</td>\n",
              "    </tr>\n",
              "    <tr>\n",
              "      <th>2</th>\n",
              "      <td>2</td>\n",
              "      <td>7.2574</td>\n",
              "      <td>52.0</td>\n",
              "      <td>8.288136</td>\n",
              "      <td>1.073446</td>\n",
              "      <td>496.0</td>\n",
              "      <td>2.802260</td>\n",
              "      <td>37.85</td>\n",
              "      <td>-122.24</td>\n",
              "      <td>3.521</td>\n",
              "      <td>{'MedInc': 7.2574, 'HouseAge': 52.0}</td>\n",
              "      <td>7.2574</td>\n",
              "      <td>52.0</td>\n",
              "    </tr>\n",
              "    <tr>\n",
              "      <th>3</th>\n",
              "      <td>3</td>\n",
              "      <td>5.6431</td>\n",
              "      <td>52.0</td>\n",
              "      <td>5.817352</td>\n",
              "      <td>1.073059</td>\n",
              "      <td>558.0</td>\n",
              "      <td>2.547945</td>\n",
              "      <td>37.85</td>\n",
              "      <td>-122.25</td>\n",
              "      <td>3.413</td>\n",
              "      <td>{'MedInc': 5.6431, 'HouseAge': 52.0}</td>\n",
              "      <td>5.6431</td>\n",
              "      <td>52.0</td>\n",
              "    </tr>\n",
              "    <tr>\n",
              "      <th>4</th>\n",
              "      <td>4</td>\n",
              "      <td>3.8462</td>\n",
              "      <td>52.0</td>\n",
              "      <td>6.281853</td>\n",
              "      <td>1.081081</td>\n",
              "      <td>565.0</td>\n",
              "      <td>2.181467</td>\n",
              "      <td>37.85</td>\n",
              "      <td>-122.25</td>\n",
              "      <td>3.422</td>\n",
              "      <td>{'MedInc': 3.8462, 'HouseAge': 52.0}</td>\n",
              "      <td>3.8462</td>\n",
              "      <td>52.0</td>\n",
              "    </tr>\n",
              "  </tbody>\n",
              "</table>\n",
              "</div>"
            ],
            "text/plain": [
              "   index  MedInc      ...        Dict.MedInc  Dict.HouseAge\n",
              "0      0  8.3252      ...             8.3252           41.0\n",
              "1      1  8.3014      ...             8.3014           21.0\n",
              "2      2  7.2574      ...             7.2574           52.0\n",
              "3      3  5.6431      ...             5.6431           52.0\n",
              "4      4  3.8462      ...             3.8462           52.0\n",
              "\n",
              "[5 rows x 13 columns]"
            ]
          },
          "metadata": {
            "tags": []
          },
          "execution_count": 23
        }
      ]
    },
    {
      "metadata": {
        "id": "HoXkaG8bBrxs",
        "colab_type": "code",
        "outputId": "97298161-0e51-42fa-bc7c-933a17f2b504",
        "colab": {
          "base_uri": "https://localhost:8080/",
          "height": 539
        }
      },
      "cell_type": "code",
      "source": [
        "df.visualize(size=\"20,10!\")"
      ],
      "execution_count": 24,
      "outputs": [
        {
          "output_type": "execute_result",
          "data": {
            "image/png": "[encoded data removed]",
            "text/plain": [
              "<IPython.core.display.Image object>"
            ]
          },
          "metadata": {
            "tags": []
          },
          "execution_count": 24
        }
      ]
    },
    {
      "metadata": {
        "id": "3vOGY453FVIh",
        "colab_type": "code",
        "colab": {}
      },
      "cell_type": "code",
      "source": [
        "columns_to_drop = ['index', 'Dict', 'Dict.MedInc', 'Dict.HouseAge']"
      ],
      "execution_count": 0,
      "outputs": []
    },
    {
      "metadata": {
        "id": "gEgToiVFJM9s",
        "colab_type": "code",
        "colab": {}
      },
      "cell_type": "code",
      "source": [
        "df = df.drop(columns_to_drop, axis=1)"
      ],
      "execution_count": 0,
      "outputs": []
    },
    {
      "metadata": {
        "id": "x_iTycAUQWRb",
        "colab_type": "code",
        "colab": {
          "base_uri": "https://localhost:8080/",
          "height": 195
        },
        "outputId": "51f83023-b717-414c-900c-1ecba7b6d5fd"
      },
      "cell_type": "code",
      "source": [
        "df.head()"
      ],
      "execution_count": 27,
      "outputs": [
        {
          "output_type": "execute_result",
          "data": {
            "text/html": [
              "<div>\n",
              "<style scoped>\n",
              "    .dataframe tbody tr th:only-of-type {\n",
              "        vertical-align: middle;\n",
              "    }\n",
              "\n",
              "    .dataframe tbody tr th {\n",
              "        vertical-align: top;\n",
              "    }\n",
              "\n",
              "    .dataframe thead th {\n",
              "        text-align: right;\n",
              "    }\n",
              "</style>\n",
              "<table border=\"1\" class=\"dataframe\">\n",
              "  <thead>\n",
              "    <tr style=\"text-align: right;\">\n",
              "      <th></th>\n",
              "      <th>MedInc</th>\n",
              "      <th>HouseAge</th>\n",
              "      <th>AveRooms</th>\n",
              "      <th>AveBedrms</th>\n",
              "      <th>Population</th>\n",
              "      <th>AveOccup</th>\n",
              "      <th>Latitude</th>\n",
              "      <th>Longitude</th>\n",
              "      <th>Target</th>\n",
              "    </tr>\n",
              "  </thead>\n",
              "  <tbody>\n",
              "    <tr>\n",
              "      <th>0</th>\n",
              "      <td>8.3252</td>\n",
              "      <td>41.0</td>\n",
              "      <td>6.984127</td>\n",
              "      <td>1.023810</td>\n",
              "      <td>322.0</td>\n",
              "      <td>2.555556</td>\n",
              "      <td>37.88</td>\n",
              "      <td>-122.23</td>\n",
              "      <td>4.526</td>\n",
              "    </tr>\n",
              "    <tr>\n",
              "      <th>1</th>\n",
              "      <td>8.3014</td>\n",
              "      <td>21.0</td>\n",
              "      <td>6.238137</td>\n",
              "      <td>0.971880</td>\n",
              "      <td>2401.0</td>\n",
              "      <td>2.109842</td>\n",
              "      <td>37.86</td>\n",
              "      <td>-122.22</td>\n",
              "      <td>3.585</td>\n",
              "    </tr>\n",
              "    <tr>\n",
              "      <th>2</th>\n",
              "      <td>7.2574</td>\n",
              "      <td>52.0</td>\n",
              "      <td>8.288136</td>\n",
              "      <td>1.073446</td>\n",
              "      <td>496.0</td>\n",
              "      <td>2.802260</td>\n",
              "      <td>37.85</td>\n",
              "      <td>-122.24</td>\n",
              "      <td>3.521</td>\n",
              "    </tr>\n",
              "    <tr>\n",
              "      <th>3</th>\n",
              "      <td>5.6431</td>\n",
              "      <td>52.0</td>\n",
              "      <td>5.817352</td>\n",
              "      <td>1.073059</td>\n",
              "      <td>558.0</td>\n",
              "      <td>2.547945</td>\n",
              "      <td>37.85</td>\n",
              "      <td>-122.25</td>\n",
              "      <td>3.413</td>\n",
              "    </tr>\n",
              "    <tr>\n",
              "      <th>4</th>\n",
              "      <td>3.8462</td>\n",
              "      <td>52.0</td>\n",
              "      <td>6.281853</td>\n",
              "      <td>1.081081</td>\n",
              "      <td>565.0</td>\n",
              "      <td>2.181467</td>\n",
              "      <td>37.85</td>\n",
              "      <td>-122.25</td>\n",
              "      <td>3.422</td>\n",
              "    </tr>\n",
              "  </tbody>\n",
              "</table>\n",
              "</div>"
            ],
            "text/plain": [
              "   MedInc  HouseAge  AveRooms   ...    Latitude  Longitude  Target\n",
              "0  8.3252      41.0  6.984127   ...       37.88    -122.23   4.526\n",
              "1  8.3014      21.0  6.238137   ...       37.86    -122.22   3.585\n",
              "2  7.2574      52.0  8.288136   ...       37.85    -122.24   3.521\n",
              "3  5.6431      52.0  5.817352   ...       37.85    -122.25   3.413\n",
              "4  3.8462      52.0  6.281853   ...       37.85    -122.25   3.422\n",
              "\n",
              "[5 rows x 9 columns]"
            ]
          },
          "metadata": {
            "tags": []
          },
          "execution_count": 27
        }
      ]
    },
    {
      "metadata": {
        "id": "qmv2aWo1VB98",
        "colab_type": "code",
        "colab": {
          "base_uri": "https://localhost:8080/",
          "height": 185
        },
        "outputId": "53d539bf-2d75-426a-d5d1-b9ce00b59400"
      },
      "cell_type": "code",
      "source": [
        "df.isnull().sum().compute()"
      ],
      "execution_count": 28,
      "outputs": [
        {
          "output_type": "execute_result",
          "data": {
            "text/plain": [
              "MedInc        0\n",
              "HouseAge      0\n",
              "AveRooms      0\n",
              "AveBedrms     0\n",
              "Population    0\n",
              "AveOccup      0\n",
              "Latitude      0\n",
              "Longitude     0\n",
              "Target        0\n",
              "dtype: int64"
            ]
          },
          "metadata": {
            "tags": []
          },
          "execution_count": 28
        }
      ]
    },
    {
      "metadata": {
        "colab_type": "text",
        "id": "W3vqiTp6m_LV"
      },
      "cell_type": "markdown",
      "source": [
        "You cannot re-input scaled values from your dataframe directly into its columns (It has to be a series). So, we will Scale Array and directly use it to train our model."
      ]
    },
    {
      "metadata": {
        "colab_type": "code",
        "id": "tJoUglPUm_Kh",
        "colab": {
          "base_uri": "https://localhost:8080/",
          "height": 151
        },
        "outputId": "4d771f3c-2e18-4f4c-c4c2-185a373343fb"
      },
      "cell_type": "code",
      "source": [
        "# Necessary for converting dataframe to array. Takes specified length from each block.\n",
        "lengths = []\n",
        "for part in df.partitions:\n",
        "  l = part.shape[0].compute()\n",
        "  lengths.append(l)\n",
        "  print(l, part.shape[1])"
      ],
      "execution_count": 29,
      "outputs": [
        {
          "output_type": "stream",
          "text": [
            "182557 9\n",
            "181760 9\n",
            "181750 9\n",
            "181756 9\n",
            "181750 9\n",
            "181087 9\n",
            "180446 9\n",
            "49854 9\n"
          ],
          "name": "stdout"
        }
      ]
    },
    {
      "metadata": {
        "colab_type": "code",
        "id": "hJsEAVBqm_KW",
        "colab": {}
      },
      "cell_type": "code",
      "source": [
        "X, y = df.drop(['Target'], axis=1).to_dask_array(lengths=lengths) , df['Target'].to_dask_array(lengths=lengths)"
      ],
      "execution_count": 0,
      "outputs": []
    },
    {
      "metadata": {
        "colab_type": "code",
        "id": "ZCfR7qEtm_KD",
        "colab": {}
      },
      "cell_type": "code",
      "source": [
        "Xo = dask.array.zeros((X.shape[0],1), chunks=(200000,1))\n",
        "from dask_ml.preprocessing import RobustScaler\n",
        "for i, col_ in enumerate(df.columns):\n",
        "  if col_ == \"Target\":\n",
        "    rsc = RobustScaler()\n",
        "    y = rsc.fit_transform(y.reshape(-1, 1)).reshape(1, -1)[0]\n",
        "  else:\n",
        "    rsc = RobustScaler()\n",
        "    temp = rsc.fit_transform(X[:,i].reshape(-1, 1))\n",
        "    Xo = dask.array.concatenate([Xo, temp], axis=1)"
      ],
      "execution_count": 0,
      "outputs": []
    },
    {
      "metadata": {
        "colab_type": "code",
        "id": "j9aL44LLm_Jc",
        "colab": {}
      },
      "cell_type": "code",
      "source": [
        "Xo = Xo[:, 1:]"
      ],
      "execution_count": 0,
      "outputs": []
    },
    {
      "metadata": {
        "id": "V58KhMi3okdL",
        "colab_type": "code",
        "colab": {
          "base_uri": "https://localhost:8080/",
          "height": 269
        },
        "outputId": "c5aa082b-ab7b-44d4-f256-b07c19ad5957"
      },
      "cell_type": "code",
      "source": [
        "Xo[-5:].compute()"
      ],
      "execution_count": 144,
      "outputs": [
        {
          "output_type": "execute_result",
          "data": {
            "text/plain": [
              "array([[-9.11033660e-01, -2.10526316e-01, -1.32135031e-01,\n",
              "         8.99459515e-01, -3.45010616e-01, -3.05382018e-01,\n",
              "         1.32631579e+00, -7.09677419e-01],\n",
              "       [-4.54049344e-01, -5.78947368e-01,  5.33792434e-01,\n",
              "         2.84432167e+00, -8.64118896e-01,  3.53090353e-01,\n",
              "         1.32894737e+00, -7.41935484e-01],\n",
              "       [-8.46968724e-01, -6.31578947e-01, -3.23698645e-02,\n",
              "         7.58319669e-01, -1.73036093e-01, -5.80589452e-01,\n",
              "         1.31315789e+00, -7.44623656e-01],\n",
              "       [-7.70292580e-01, -5.78947368e-01,  4.48869608e-02,\n",
              "         1.31076550e+00, -4.55414013e-01, -8.17678848e-01,\n",
              "         1.31315789e+00, -7.71505376e-01],\n",
              "       [-5.31184078e-01, -6.84210526e-01, -1.72501711e-03,\n",
              "         1.20784296e+00,  2.30360934e-01, -2.39353267e-01,\n",
              "         1.29736842e+00, -7.50000000e-01]])"
            ]
          },
          "metadata": {
            "tags": []
          },
          "execution_count": 144
        }
      ]
    },
    {
      "metadata": {
        "id": "P71Q5JOkTKX3",
        "colab_type": "text"
      },
      "cell_type": "markdown",
      "source": [
        "To make blocks for both of equal size. Otherwise you might get broadcast error.\n",
        "\n"
      ]
    },
    {
      "metadata": {
        "id": "41fspI44pEZB",
        "colab_type": "code",
        "colab": {}
      },
      "cell_type": "code",
      "source": [
        "Xo = Xo.rechunk({1: Xo.shape[1]})\n",
        "Xo = Xo.rechunk({0: 200000})\n",
        "y = y.rechunk({0: 200000})"
      ],
      "execution_count": 0,
      "outputs": []
    },
    {
      "metadata": {
        "id": "7R7k9yXLQXw9",
        "colab_type": "code",
        "colab": {
          "base_uri": "https://localhost:8080/",
          "height": 34
        },
        "outputId": "b4709f0b-7daf-445f-9029-bffdf59552aa"
      },
      "cell_type": "code",
      "source": [
        "tr_len = 0.8*Xo.shape[0]\n",
        "xtrain, ytrain = Xo[:tr_len], y[:tr_len]\n",
        "xvalid, yvalid = Xo[tr_len:], y[tr_len:]\n",
        "xtrain.shape, ytrain.shape, xvalid.shape, yvalid.shape"
      ],
      "execution_count": 179,
      "outputs": [
        {
          "output_type": "execute_result",
          "data": {
            "text/plain": [
              "((1056768, 8), (1056768,), (264192, 8), (264192,))"
            ]
          },
          "metadata": {
            "tags": []
          },
          "execution_count": 179
        }
      ]
    },
    {
      "metadata": {
        "id": "W1khyX7fn3pj",
        "colab_type": "code",
        "colab": {}
      },
      "cell_type": "code",
      "source": [
        "from dask_ml.linear_model import LinearRegression"
      ],
      "execution_count": 0,
      "outputs": []
    },
    {
      "metadata": {
        "id": "-S9OVZV-oKPz",
        "colab_type": "code",
        "colab": {}
      },
      "cell_type": "code",
      "source": [
        "est = LinearRegression()"
      ],
      "execution_count": 0,
      "outputs": []
    },
    {
      "metadata": {
        "id": "Vvl4-6Lho-88",
        "colab_type": "code",
        "colab": {
          "base_uri": "https://localhost:8080/",
          "height": 84
        },
        "outputId": "31227917-7150-475f-a011-1513edeb7471"
      },
      "cell_type": "code",
      "source": [
        "est.fit(xtrain, y=ytrain)"
      ],
      "execution_count": 182,
      "outputs": [
        {
          "output_type": "execute_result",
          "data": {
            "text/plain": [
              "LinearRegression(C=1.0, class_weight=None, dual=False, fit_intercept=True,\n",
              "         intercept_scaling=1.0, max_iter=100, multiclass='ovr', n_jobs=1,\n",
              "         penalty='l2', random_state=None, solver='admm',\n",
              "         solver_kwargs=None, tol=0.0001, verbose=0, warm_start=False)"
            ]
          },
          "metadata": {
            "tags": []
          },
          "execution_count": 182
        }
      ]
    },
    {
      "metadata": {
        "id": "OnxIlTzdpEqg",
        "colab_type": "code",
        "colab": {}
      },
      "cell_type": "code",
      "source": [
        "preds = est.predict(xvalid)"
      ],
      "execution_count": 0,
      "outputs": []
    },
    {
      "metadata": {
        "id": "1JR3D7TjqvUP",
        "colab_type": "code",
        "colab": {
          "base_uri": "https://localhost:8080/",
          "height": 50
        },
        "outputId": "091d0aea-1bce-4bad-e569-2312f16878c8"
      },
      "cell_type": "code",
      "source": [
        "preds[0:10].compute()"
      ],
      "execution_count": 184,
      "outputs": [
        {
          "output_type": "execute_result",
          "data": {
            "text/plain": [
              "array([ 0.35169143,  0.46621322,  0.41237802,  0.28285737,  0.24595807,\n",
              "        0.08746062,  0.24150728,  0.26845929, -0.11211374,  0.40954053])"
            ]
          },
          "metadata": {
            "tags": []
          },
          "execution_count": 184
        }
      ]
    },
    {
      "metadata": {
        "id": "FWfFG7MArlIM",
        "colab_type": "code",
        "colab": {
          "base_uri": "https://localhost:8080/",
          "height": 364
        },
        "outputId": "5a0d3c38-21a7-4a30-b625-76f77a63415b"
      },
      "cell_type": "code",
      "source": [
        "plt.scatter(preds.compute(), yvalid.compute())"
      ],
      "execution_count": 185,
      "outputs": [
        {
          "output_type": "execute_result",
          "data": {
            "text/plain": [
              "<matplotlib.collections.PathCollection at 0x7fcf807ecb70>"
            ]
          },
          "metadata": {
            "tags": []
          },
          "execution_count": 185
        },
        {
          "output_type": "display_data",
          "data": {
            "image/png": "[encoded data removed]",
            "text/plain": [
              "<matplotlib.figure.Figure at 0x7fcf70db0b00>"
            ]
          },
          "metadata": {
            "tags": []
          }
        }
      ]
    }
  ]
}