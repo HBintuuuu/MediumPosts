{
  "nbformat": 4,
  "nbformat_minor": 0,
  "metadata": {
    "colab": {
      "name": "Speed_Up_Your_Algo_PyTorch.ipynb",
      "version": "0.3.2",
      "provenance": [],
      "collapsed_sections": [
        "nJyq4ZJ3CL5-",
        "IOpLFtlLj_Sf",
        "zLBPSTrUkEDN",
        "ma-vz8-qCSwK",
        "70ana3V1EIFi",
        "4oxBruH9pPFV",
        "ZrV3b8zWGgoX",
        "KGE6gB_CJ4Oi"
      ]
    },
    "kernelspec": {
      "name": "python3",
      "display_name": "Python 3"
    },
    "accelerator": "GPU"
  },
  "cells": [
    {
      "metadata": {
        "id": "FkDg9fic_5Rl",
        "colab_type": "text"
      },
      "cell_type": "markdown",
      "source": [
        "This is a part of series I am writing, named \"**Speed Up Your Algorithms**\". \n",
        "\n",
        "Here is the list of posts with files I have written:\n",
        "[Github-SpeedUpYourAlgorithms](https://github.com/PuneetGrov3r/MediumPosts/tree/master/SpeedUpYourAlgorithms)"
      ]
    },
    {
      "metadata": {
        "id": "nJyq4ZJ3CL5-",
        "colab_type": "text"
      },
      "cell_type": "markdown",
      "source": [
        "# Initial"
      ]
    },
    {
      "metadata": {
        "id": "IOpLFtlLj_Sf",
        "colab_type": "text"
      },
      "cell_type": "markdown",
      "source": [
        "### Torch, Torchvision:"
      ]
    },
    {
      "metadata": {
        "id": "m9K9aQp_CEw5",
        "colab_type": "code",
        "outputId": "a89fda99-0c33-4dbd-f6a3-6b3d240e0d41",
        "colab": {
          "base_uri": "https://localhost:8080/",
          "height": 34
        }
      },
      "cell_type": "code",
      "source": [
        "!cat /usr/local/cuda/version.txt"
      ],
      "execution_count": 0,
      "outputs": [
        {
          "output_type": "stream",
          "text": [
            "CUDA Version 9.2.148\n"
          ],
          "name": "stdout"
        }
      ]
    },
    {
      "metadata": {
        "id": "srtGQ9C1AdLT",
        "colab_type": "code",
        "colab": {}
      },
      "cell_type": "code",
      "source": [
        "!pip install http://download.pytorch.org/whl/cu92/torch-0.4.1-cp36-cp36m-linux_x86_64.whl\n",
        "!pip install torchvision"
      ],
      "execution_count": 0,
      "outputs": []
    },
    {
      "metadata": {
        "id": "zLBPSTrUkEDN",
        "colab_type": "text"
      },
      "cell_type": "markdown",
      "source": [
        "### Pycuda:"
      ]
    },
    {
      "metadata": {
        "id": "8RpbRcfdeuk7",
        "colab_type": "code",
        "colab": {}
      },
      "cell_type": "code",
      "source": [
        "# https://medium.com/@iphoenix179/running-cuda-c-c-in-jupyter-or-how-to-run-nvcc-in-google-colab-663d33f53772\n",
        "# https://developer.nvidia.com/cuda-90-download-archive?target_os=Linux&target_arch=x86_64&target_distro=Ubuntu&target_version=1704&target_type=deblocal\n",
        "!apt update -qq;\n",
        "!wget https://developer.nvidia.com/compute/cuda/9.0/Prod/local_installers/cuda-repo-ubuntu1704-9-0-local_9.0.176-1_amd64-deb\n",
        "!mv cuda-repo-ubuntu1704-9-0-local_9.0.176-1_amd64-deb cuda-repo-ubuntu1704-9-0-local_9.0.176-1_amd64.deb  \n",
        "!dpkg -i cuda-repo-ubuntu1704-9-0-local_9.0.176-1_amd64.deb\n",
        "!apt-key add /var/cuda-repo-9-0-local/7fa2af80.pub\n",
        "!apt-get update -qq;\n",
        "!apt-get install cuda gcc-5 g++-5 -y -qq;\n",
        "!ln -s /usr/bin/gcc-5 /usr/local/cuda/bin/gcc;\n",
        "!ln -s /usr/bin/g++-5 /usr/local/cuda/bin/g++;\n",
        "#!apt install cuda-9.2;"
      ],
      "execution_count": 0,
      "outputs": []
    },
    {
      "metadata": {
        "id": "pUBT0zfUFlz5",
        "colab_type": "code",
        "colab": {}
      },
      "cell_type": "code",
      "source": [
        "# http://alisonrowland.com/articles/installing-pycuda-via-pip\n",
        "# https://codeyarns.com/2015/07/31/pip-install-error-with-pycuda/\n",
        "import os\n",
        "PATH = os.environ[\"PATH\"]\n",
        "os.environ[\"PATH\"] = \"/usr/local/cuda-9.2/bin:/usr/local/cuda/bin:\" + PATH\n",
        "os.environ[\"LD_LIBRARY_PATH\"] = \"/usr/local/cuda/lib64\"\n",
        "os.environ[\"CUDA_ROOT\"] = \"/usr/local/cuda/\""
      ],
      "execution_count": 0,
      "outputs": []
    },
    {
      "metadata": {
        "id": "He-T3N_uGB8i",
        "colab_type": "code",
        "colab": {}
      },
      "cell_type": "code",
      "source": [
        "!pip -q install --ignore-installed pycuda"
      ],
      "execution_count": 0,
      "outputs": []
    },
    {
      "metadata": {
        "id": "ma-vz8-qCSwK",
        "colab_type": "text"
      },
      "cell_type": "markdown",
      "source": [
        "# Import"
      ]
    },
    {
      "metadata": {
        "id": "u0CQHYVcKjKs",
        "colab_type": "code",
        "colab": {}
      },
      "cell_type": "code",
      "source": [
        "import torchvision\n",
        "import torch\n",
        "import numpy as np\n",
        "import pandas as pd\n",
        "from torch import nn\n",
        "\n",
        "import matplotlib.pyplot as plt"
      ],
      "execution_count": 0,
      "outputs": []
    },
    {
      "metadata": {
        "id": "dWWAJMSVDjLN",
        "colab_type": "code",
        "colab": {}
      },
      "cell_type": "code",
      "source": [
        "import pycuda.driver as cuda\n",
        "cuda.init()"
      ],
      "execution_count": 0,
      "outputs": []
    },
    {
      "metadata": {
        "id": "70ana3V1EIFi",
        "colab_type": "text"
      },
      "cell_type": "markdown",
      "source": [
        "# 2. How to check the availability of cuda?"
      ]
    },
    {
      "metadata": {
        "id": "aJTVCSj2A9jS",
        "colab_type": "code",
        "outputId": "a6079b17-92c3-4ef6-f6dc-cbfedaa0dbe1",
        "colab": {
          "base_uri": "https://localhost:8080/",
          "height": 34
        }
      },
      "cell_type": "code",
      "source": [
        "torch.cuda.is_available() # We are on GPU instance, so cuda is already installed."
      ],
      "execution_count": 0,
      "outputs": [
        {
          "output_type": "execute_result",
          "data": {
            "text/plain": [
              "True"
            ]
          },
          "metadata": {
            "tags": []
          },
          "execution_count": 8
        }
      ]
    },
    {
      "metadata": {
        "id": "T--ZU71EEkFr",
        "colab_type": "text"
      },
      "cell_type": "markdown",
      "source": [
        "# 3. How to get more info on your cuda devices?"
      ]
    },
    {
      "metadata": {
        "id": "h5ujkSp2nVOe",
        "colab_type": "code",
        "outputId": "13140521-a763-42e3-83dd-b1eaef2de072",
        "colab": {
          "base_uri": "https://localhost:8080/",
          "height": 34
        }
      },
      "cell_type": "code",
      "source": [
        "torch.cuda.current_device() # Get Id of current cuda device"
      ],
      "execution_count": 0,
      "outputs": [
        {
          "output_type": "execute_result",
          "data": {
            "text/plain": [
              "0"
            ]
          },
          "metadata": {
            "tags": []
          },
          "execution_count": 9
        }
      ]
    },
    {
      "metadata": {
        "id": "dfyIYR9rE4Pg",
        "colab_type": "code",
        "outputId": "9cdc0288-a47a-4dd1-8c1b-0000380f3a68",
        "colab": {
          "base_uri": "https://localhost:8080/",
          "height": 34
        }
      },
      "cell_type": "code",
      "source": [
        "cuda.Device(0).name() # get name of device using pycuda"
      ],
      "execution_count": 0,
      "outputs": [
        {
          "output_type": "execute_result",
          "data": {
            "text/plain": [
              "'Tesla K80'"
            ]
          },
          "metadata": {
            "tags": []
          },
          "execution_count": 10
        }
      ]
    },
    {
      "metadata": {
        "id": "PdfRQs65m_7I",
        "colab_type": "code",
        "outputId": "5a2569b1-d95e-4e3a-a059-969fa14c384b",
        "colab": {
          "base_uri": "https://localhost:8080/",
          "height": 34
        }
      },
      "cell_type": "code",
      "source": [
        "torch.cuda.get_device_name(0) # or using torch"
      ],
      "execution_count": 0,
      "outputs": [
        {
          "output_type": "execute_result",
          "data": {
            "text/plain": [
              "'Tesla K80'"
            ]
          },
          "metadata": {
            "tags": []
          },
          "execution_count": 11
        }
      ]
    },
    {
      "metadata": {
        "id": "A8ALco5IngOu",
        "colab_type": "code",
        "outputId": "5f44950f-b69a-4e7c-80c3-667e3efcd728",
        "colab": {
          "base_uri": "https://localhost:8080/",
          "height": 67
        }
      },
      "cell_type": "code",
      "source": [
        "# Simple class for getting info on all cuda compatible devices\n",
        "import pycuda.autoinit\n",
        "\n",
        "class aboutCudaDevices():\n",
        "    def __init__(self):\n",
        "        pass\n",
        "    \n",
        "    def num_devices(self):\n",
        "        \"\"\"Return number of devices connected.\"\"\"\n",
        "        return cuda.Device.count()\n",
        "    \n",
        "    def devices(self):\n",
        "        \"\"\"Get info on all devices connected.\"\"\"\n",
        "        num = cuda.Device.count()\n",
        "        print(\"%d device(s) found:\"%num)\n",
        "        for i in range(num):\n",
        "            print(cuda.Device(i).name(), \"(Id: %d)\"%i)\n",
        "            \n",
        "    def mem_info(self):\n",
        "        \"\"\"Get available and total memory of all devices.\"\"\"\n",
        "        available, total = cuda.mem_get_info()\n",
        "        print(\"Available: %.2f GB\\nTotal:     %.2f GB\"%(available/1e9, total/1e9))\n",
        "        \n",
        "    def attributes(self, device_id=0):\n",
        "        \"\"\"Get attributes of device with device Id = device_id\"\"\"\n",
        "        return cuda.Device(device_id).get_attributes()\n",
        "    \n",
        "    def __repr__(self):\n",
        "        \"\"\"Class representation as number of devices connected and about them.\"\"\"\n",
        "        num = cuda.Device.count()\n",
        "        string = \"\"\n",
        "        string += (\"%d device(s) found:\\n\"%num)\n",
        "        for i in range(num):\n",
        "            string += ( \"    %d) %s (Id: %d)\\n\"%((i+1),cuda.Device(i).name(),i))\n",
        "            string += (\"          Memory: %.2f GB\\n\"%(cuda.Device(i).total_memory()/1e9))\n",
        "        return string\n",
        "\n",
        "# You can print output just by typing its name (__repr__):\n",
        "aboutCudaDevices()"
      ],
      "execution_count": 0,
      "outputs": [
        {
          "output_type": "execute_result",
          "data": {
            "text/plain": [
              "1 device(s) found:\n",
              "    1) Tesla K80 (Id: 0)\n",
              "          Memory: 12.00 GB"
            ]
          },
          "metadata": {
            "tags": []
          },
          "execution_count": 12
        }
      ]
    },
    {
      "metadata": {
        "id": "BAyU2477owkl",
        "colab_type": "code",
        "outputId": "4a4f096c-1c28-46a3-a391-974d5d2d1403",
        "colab": {
          "base_uri": "https://localhost:8080/",
          "height": 34
        }
      },
      "cell_type": "code",
      "source": [
        "# Lets check how much memory is allocated:\n",
        "torch.cuda.memory_allocated()"
      ],
      "execution_count": 0,
      "outputs": [
        {
          "output_type": "execute_result",
          "data": {
            "text/plain": [
              "0"
            ]
          },
          "metadata": {
            "tags": []
          },
          "execution_count": 13
        }
      ]
    },
    {
      "metadata": {
        "id": "Equ6KD99oEMT",
        "colab_type": "code",
        "outputId": "7333a930-b7f7-4b13-8ea8-d1dd1015b0f2",
        "colab": {
          "base_uri": "https://localhost:8080/",
          "height": 34
        }
      },
      "cell_type": "code",
      "source": [
        "# Let allocate some arrays to GPU:\n",
        "mat_a = torch.cuda.FloatTensor((100., 100.))\n",
        "mat_a"
      ],
      "execution_count": 0,
      "outputs": [
        {
          "output_type": "execute_result",
          "data": {
            "text/plain": [
              "tensor([100., 100.], device='cuda:0')"
            ]
          },
          "metadata": {
            "tags": []
          },
          "execution_count": 14
        }
      ]
    },
    {
      "metadata": {
        "id": "O6b6mf59oXhe",
        "colab_type": "code",
        "outputId": "6ff6867f-f802-4d3a-d4f9-f15041a8ee6d",
        "colab": {
          "base_uri": "https://localhost:8080/",
          "height": 34
        }
      },
      "cell_type": "code",
      "source": [
        "# Lets check how muc memory is allocated now:\n",
        "torch.cuda.memory_allocated()"
      ],
      "execution_count": 0,
      "outputs": [
        {
          "output_type": "execute_result",
          "data": {
            "text/plain": [
              "512"
            ]
          },
          "metadata": {
            "tags": []
          },
          "execution_count": 15
        }
      ]
    },
    {
      "metadata": {
        "id": "Al9L1fBooqx-",
        "colab_type": "code",
        "outputId": "ef47df7f-07e3-49b1-fd75-2a45e3a8d9ad",
        "colab": {
          "base_uri": "https://localhost:8080/",
          "height": 34
        }
      },
      "cell_type": "code",
      "source": [
        "# Memory used by Cache Allocator:\n",
        "torch.cuda.memory_cached()"
      ],
      "execution_count": 0,
      "outputs": [
        {
          "output_type": "execute_result",
          "data": {
            "text/plain": [
              "1048576"
            ]
          },
          "metadata": {
            "tags": []
          },
          "execution_count": 16
        }
      ]
    },
    {
      "metadata": {
        "id": "V0JshoUtDPM6",
        "colab_type": "code",
        "colab": {}
      },
      "cell_type": "code",
      "source": [
        "# These memory methods are only available for GPUs. And that's where they are actually needed."
      ],
      "execution_count": 0,
      "outputs": []
    },
    {
      "metadata": {
        "id": "4oxBruH9pPFV",
        "colab_type": "text"
      },
      "cell_type": "markdown",
      "source": [
        "# 4. How to store Tensors and run Models on GPU?"
      ]
    },
    {
      "metadata": {
        "id": "54xGuTWvo5Z3",
        "colab_type": "code",
        "outputId": "8b36a64e-f254-4af8-e78f-00848db43ea6",
        "colab": {
          "base_uri": "https://localhost:8080/",
          "height": 34
        }
      },
      "cell_type": "code",
      "source": [
        "# For storing something on CPU:\n",
        "Mat_cpu = torch.FloatTensor([1., 2.])\n",
        "Mat_cpu"
      ],
      "execution_count": 0,
      "outputs": [
        {
          "output_type": "execute_result",
          "data": {
            "text/plain": [
              "tensor([1., 2.])"
            ]
          },
          "metadata": {
            "tags": []
          },
          "execution_count": 18
        }
      ]
    },
    {
      "metadata": {
        "id": "4HzPhPO5EIVm",
        "colab_type": "code",
        "outputId": "ee17ef47-f8c7-4f0a-b912-fbfaa9b037a6",
        "colab": {
          "base_uri": "https://localhost:8080/",
          "height": 34
        }
      },
      "cell_type": "code",
      "source": [
        "# To put this on GPU:\n",
        "Mat_gpu = Mat_cpu.cuda()\n",
        "Mat_gpu, Mat_cpu"
      ],
      "execution_count": 0,
      "outputs": [
        {
          "output_type": "execute_result",
          "data": {
            "text/plain": [
              "(tensor([1., 2.], device='cuda:0'), tensor([1., 2.]))"
            ]
          },
          "metadata": {
            "tags": []
          },
          "execution_count": 19
        }
      ]
    },
    {
      "metadata": {
        "id": "4EXubaSKETq2",
        "colab_type": "code",
        "outputId": "6392d2b2-e7e6-4251-fd11-28e2ce904a4b",
        "colab": {
          "base_uri": "https://localhost:8080/",
          "height": 34
        }
      },
      "cell_type": "code",
      "source": [
        "# Or you could have done:\n",
        "Mat_gpu2 = torch.cuda.FloatTensor([1., 2.])\n",
        "Mat_gpu2"
      ],
      "execution_count": 0,
      "outputs": [
        {
          "output_type": "execute_result",
          "data": {
            "text/plain": [
              "tensor([1., 2.], device='cuda:0')"
            ]
          },
          "metadata": {
            "tags": []
          },
          "execution_count": 20
        }
      ]
    },
    {
      "metadata": {
        "id": "WX3ROV-vFAMG",
        "colab_type": "code",
        "colab": {}
      },
      "cell_type": "code",
      "source": [
        "# Putting Model on GPU:\n",
        "sq = nn.Sequential(\n",
        "         nn.Linear(20, 20),\n",
        "         nn.ReLU(),\n",
        "         nn.Linear(20, 4),\n",
        "         nn.Softmax()\n",
        ")"
      ],
      "execution_count": 0,
      "outputs": []
    },
    {
      "metadata": {
        "id": "oiLwGOdtGJqM",
        "colab_type": "code",
        "colab": {}
      },
      "cell_type": "code",
      "source": [
        "model = sq.cuda()"
      ],
      "execution_count": 0,
      "outputs": []
    },
    {
      "metadata": {
        "id": "PfZlJIUUGSoJ",
        "colab_type": "code",
        "outputId": "7e2f2c17-32e1-4cc2-c1ba-b0383899db44",
        "colab": {
          "base_uri": "https://localhost:8080/",
          "height": 34
        }
      },
      "cell_type": "code",
      "source": [
        "# To check if model is on GPU:\n",
        "# From the discussions here: discuss.pytorch.org/t/how-to-check-if-model-is-on-cuda\n",
        "next(model.parameters()).is_cuda"
      ],
      "execution_count": 0,
      "outputs": [
        {
          "output_type": "execute_result",
          "data": {
            "text/plain": [
              "True"
            ]
          },
          "metadata": {
            "tags": []
          },
          "execution_count": 23
        }
      ]
    },
    {
      "metadata": {
        "id": "FwIa7hAk7DDb",
        "colab_type": "text"
      },
      "cell_type": "markdown",
      "source": [
        "# CPU vs GPU"
      ]
    },
    {
      "metadata": {
        "id": "_4QjDwoa1Xw7",
        "colab_type": "code",
        "outputId": "60ac43b7-81a3-459b-e212-4237c7746f72",
        "colab": {
          "base_uri": "https://localhost:8080/",
          "height": 34
        }
      },
      "cell_type": "code",
      "source": [
        "model_cpu = nn.Sequential(\n",
        "         nn.Linear(20, 20),\n",
        "         nn.ReLU(),\n",
        "         nn.Linear(20, 4),\n",
        "         nn.Softmax()\n",
        ").float()\n",
        "model_gpu = model.float()\n",
        "next(model_cpu.parameters()).is_cuda, next(model_gpu.parameters()).is_cuda"
      ],
      "execution_count": 0,
      "outputs": [
        {
          "output_type": "execute_result",
          "data": {
            "text/plain": [
              "(False, True)"
            ]
          },
          "metadata": {
            "tags": []
          },
          "execution_count": 37
        }
      ]
    },
    {
      "metadata": {
        "id": "s21Imowu3woJ",
        "colab_type": "code",
        "colab": {}
      },
      "cell_type": "code",
      "source": [
        "cpu_inp = torch.ones((100000, 20), dtype=torch.float32)\n",
        "gpu_inp = torch.ones((100000, 20), dtype=torch.float32).cuda()"
      ],
      "execution_count": 0,
      "outputs": []
    },
    {
      "metadata": {
        "id": "6zTaBUiS4E5u",
        "colab_type": "code",
        "outputId": "895c3847-96b3-4a3d-8ca2-6e65f5f66535",
        "colab": {
          "base_uri": "https://localhost:8080/",
          "height": 87
        }
      },
      "cell_type": "code",
      "source": [
        "%timeit res = model_cpu(cpu_inp)"
      ],
      "execution_count": 0,
      "outputs": [
        {
          "output_type": "stream",
          "text": [
            "/usr/local/lib/python3.6/dist-packages/torch/nn/modules/container.py:91: UserWarning: Implicit dimension choice for softmax has been deprecated. Change the call to include dim=X as an argument.\n",
            "  input = module(input)\n"
          ],
          "name": "stderr"
        },
        {
          "output_type": "stream",
          "text": [
            "10 loops, best of 3: 28 ms per loop\n"
          ],
          "name": "stdout"
        }
      ]
    },
    {
      "metadata": {
        "id": "jX0ENIk_4K5D",
        "colab_type": "code",
        "outputId": "4e24e52b-2caf-434b-bb15-318ebb7cbb0a",
        "colab": {
          "base_uri": "https://localhost:8080/",
          "height": 87
        }
      },
      "cell_type": "code",
      "source": [
        "%%timeit \n",
        "for i in range(10): # Because we don't have enough memory on GPU\n",
        "  res = model_gpu(gpu_inp[i*1000:i*1000+1000])"
      ],
      "execution_count": 0,
      "outputs": [
        {
          "output_type": "stream",
          "text": [
            "/usr/local/lib/python3.6/dist-packages/torch/nn/modules/container.py:91: UserWarning: Implicit dimension choice for softmax has been deprecated. Change the call to include dim=X as an argument.\n",
            "  input = module(input)\n"
          ],
          "name": "stderr"
        },
        {
          "output_type": "stream",
          "text": [
            "100 loops, best of 3: 3.61 ms per loop\n"
          ],
          "name": "stdout"
        }
      ]
    },
    {
      "metadata": {
        "id": "7-U_851D4UWx",
        "colab_type": "code",
        "outputId": "2d2f6fd4-4d32-4b32-ad59-794e28b0f0a2",
        "colab": {
          "base_uri": "https://localhost:8080/",
          "height": 417
        }
      },
      "cell_type": "code",
      "source": [
        "fig, ax = plt.subplots(1, 1)\n",
        "ax.plot([\"a\", \"b\"], [28, 3.61], \"-o\")\n",
        "ax.set_xticklabels([\"CPU Model\", \"GPU Model\"])\n",
        "fig.suptitle(\"CPU vs GPU\", fontsize=17)\n",
        "ax.set_ylabel(\"Time (ms)\")\n",
        "ax.set_xlabel(\"Model Type\")"
      ],
      "execution_count": 0,
      "outputs": [
        {
          "output_type": "execute_result",
          "data": {
            "text/plain": [
              "Text(0.5,0,'Model Type')"
            ]
          },
          "metadata": {
            "tags": []
          },
          "execution_count": 54
        },
        {
          "output_type": "display_data",
          "data": {
            "image/png": "[encoded data removed]",
            "text/plain": [
              "<matplotlib.figure.Figure at 0x7f7920d90198>"
            ]
          },
          "metadata": {
            "tags": []
          }
        }
      ]
    },
    {
      "metadata": {
        "id": "ZrV3b8zWGgoX",
        "colab_type": "text"
      },
      "cell_type": "markdown",
      "source": [
        "# 5. How to select and work on GPU(s) if you have multiple of them?"
      ]
    },
    {
      "metadata": {
        "id": "g4B86rMUGbHI",
        "colab_type": "code",
        "outputId": "ccb3379d-0cd3-4753-e7b2-d1c225388fc9",
        "colab": {
          "base_uri": "https://localhost:8080/",
          "height": 35
        }
      },
      "cell_type": "code",
      "source": [
        "# Sadly we only have one GPU here, so we will look into the dynamics with that GPU only.\n",
        "cuda0 = torch.device('cuda:0')\n",
        "\n",
        "x = torch.Tensor([1., 2.]).to(cuda0)\n",
        "x"
      ],
      "execution_count": 0,
      "outputs": [
        {
          "output_type": "execute_result",
          "data": {
            "text/plain": [
              "tensor([1., 2.], device='cuda:0')"
            ]
          },
          "metadata": {
            "tags": []
          },
          "execution_count": 56
        }
      ]
    },
    {
      "metadata": {
        "id": "uvNDslc6IvUC",
        "colab_type": "code",
        "colab": {}
      },
      "cell_type": "code",
      "source": [
        "# To change the default Device:\n",
        "torch.cuda.set_device(0) # '0' is the Id of device"
      ],
      "execution_count": 0,
      "outputs": []
    },
    {
      "metadata": {
        "id": "bmsLfUk3JegG",
        "colab_type": "code",
        "outputId": "b5744a38-5744-4a8c-9401-7a0e8fd561a3",
        "colab": {
          "base_uri": "https://localhost:8080/",
          "height": 35
        }
      },
      "cell_type": "code",
      "source": [
        "y = torch.Tensor([3., 4.]).to(cuda0)\n",
        "z = x + y\n",
        "z # This tensor is stored on the same device as x and y"
      ],
      "execution_count": 0,
      "outputs": [
        {
          "output_type": "execute_result",
          "data": {
            "text/plain": [
              "tensor([4., 6.], device='cuda:0')"
            ]
          },
          "metadata": {
            "tags": []
          },
          "execution_count": 58
        }
      ]
    },
    {
      "metadata": {
        "id": "KGE6gB_CJ4Oi",
        "colab_type": "text"
      },
      "cell_type": "markdown",
      "source": [
        "# 6. Data Parallelism?"
      ]
    },
    {
      "metadata": {
        "id": "cyVerBqXJxwB",
        "colab_type": "code",
        "colab": {}
      },
      "cell_type": "code",
      "source": [
        "# Again we only have one GPU, so we will only use that to see into Dynamics\n",
        "module =  nn.Sequential(\n",
        "         nn.Linear(20, 20),\n",
        "         nn.ReLU(),\n",
        "         nn.Linear(20, 4),\n",
        "         nn.Softmax()\n",
        ").cuda()\n",
        "\n",
        "inp = torch.ones((30, 20)).cuda()"
      ],
      "execution_count": 0,
      "outputs": []
    },
    {
      "metadata": {
        "id": "Ik8h9tc3LTKQ",
        "colab_type": "code",
        "outputId": "575bf4f1-3933-4d89-8c1c-0837ccd9ba44",
        "colab": {
          "base_uri": "https://localhost:8080/",
          "height": 52
        }
      },
      "cell_type": "code",
      "source": [
        "# Replicate module to devices in device_ids\n",
        "replicas = nn.parallel.replicate(module, [0])\n",
        "\n",
        "# Distribute input to devices in device_ids\n",
        "inputs = nn.parallel.scatter(inp, [0])\n",
        "\n",
        "# Apply the models to corresponding inputs\n",
        "outputs = nn.parallel.parallel_apply(replicas, inputs)\n",
        "\n",
        "# Gather result from all devices to output_device\n",
        "result = nn.parallel.gather(outputs, 0)"
      ],
      "execution_count": 0,
      "outputs": [
        {
          "output_type": "stream",
          "text": [
            "/usr/local/lib/python3.6/dist-packages/torch/nn/modules/container.py:91: UserWarning: Implicit dimension choice for softmax has been deprecated. Change the call to include dim=X as an argument.\n",
            "  input = module(input)\n"
          ],
          "name": "stderr"
        }
      ]
    },
    {
      "metadata": {
        "id": "9hosvC37Lp1i",
        "colab_type": "code",
        "outputId": "1cb95020-60a9-484f-da99-13bd912cd37f",
        "colab": {
          "base_uri": "https://localhost:8080/",
          "height": 35
        }
      },
      "cell_type": "code",
      "source": [
        "result.shape # Output from module"
      ],
      "execution_count": 0,
      "outputs": [
        {
          "output_type": "execute_result",
          "data": {
            "text/plain": [
              "torch.Size([30, 4])"
            ]
          },
          "metadata": {
            "tags": []
          },
          "execution_count": 63
        }
      ]
    },
    {
      "metadata": {
        "id": "vR4KkgxCLtWC",
        "colab_type": "code",
        "outputId": "50f9bfb4-1829-4634-fa67-d8626269ea27",
        "colab": {
          "base_uri": "https://localhost:8080/",
          "height": 70
        }
      },
      "cell_type": "code",
      "source": [
        "# Or we could have done:\n",
        "model = nn.DataParallel(model, device_ids=[0])\n",
        "result = model(inp)\n",
        "result.shape"
      ],
      "execution_count": 0,
      "outputs": [
        {
          "output_type": "stream",
          "text": [
            "/usr/local/lib/python3.6/dist-packages/torch/nn/modules/container.py:91: UserWarning: Implicit dimension choice for softmax has been deprecated. Change the call to include dim=X as an argument.\n",
            "  input = module(input)\n"
          ],
          "name": "stderr"
        },
        {
          "output_type": "execute_result",
          "data": {
            "text/plain": [
              "torch.Size([30, 4])"
            ]
          },
          "metadata": {
            "tags": []
          },
          "execution_count": 64
        }
      ]
    }
  ]
}