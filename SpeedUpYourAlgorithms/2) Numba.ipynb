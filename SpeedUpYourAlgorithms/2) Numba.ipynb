{
  "nbformat": 4,
  "nbformat_minor": 0,
  "metadata": {
    "colab": {
      "name": "SpeedUpYourAlgorithms_Numba.ipynb",
      "version": "0.3.2",
      "provenance": []
    },
    "kernelspec": {
      "name": "python3",
      "display_name": "Python 3"
    },
    "accelerator": "GPU"
  },
  "cells": [
    {
      "metadata": {
        "id": "QPIVdxjZ_6az",
        "colab_type": "text"
      },
      "cell_type": "markdown",
      "source": [
        "\n",
        "This is a part of series I am writing, named \"**Speed Up Your Algorithms**\".\n",
        "\n",
        "Here is the list of posts with files I have written: [Github-SpeedUpYourAlgorithms](https://github.com/PuneetGrov3r/MediumPosts/tree/master/SpeedUpYourAlgorithms)"
      ]
    },
    {
      "metadata": {
        "id": "tI78SzIeTZSH",
        "colab_type": "text"
      },
      "cell_type": "markdown",
      "source": [
        "# Initial"
      ]
    },
    {
      "metadata": {
        "id": "vF74OXegST3A",
        "colab_type": "code",
        "colab": {}
      },
      "cell_type": "code",
      "source": [
        "!pip install numba"
      ],
      "execution_count": 0,
      "outputs": []
    },
    {
      "metadata": {
        "id": "YmsI2Ou7SyTX",
        "colab_type": "code",
        "colab": {}
      },
      "cell_type": "code",
      "source": [
        "# Needed for using cuda with Numba (https://numba.pydata.org/numba-doc/dev/user/installing.html#installing-using-pip-on-x86-x86-64-platforms)\n",
        "# Numba only supports cuda till 9.1\n",
        "!apt update -qq;\n",
        "!wget https://developer.nvidia.com/compute/cuda/8.0/Prod2/local_installers/cuda-repo-ubuntu1604-8-0-local-ga2_8.0.61-1_amd64-deb\n",
        "!mv cuda-repo-ubuntu1604-8-0-local-ga2_8.0.61-1_amd64-deb cuda-repo-ubuntu1604-8-0-local-ga2_8.0.61-1_amd64.deb\n",
        "!dpkg -i cuda-repo-ubuntu1604-8-0-local-ga2_8.0.61-1_amd64.deb\n",
        "!apt-get update -qq;\n",
        "!apt-get install cuda-8-0 gcc-5 g++-5 -y -qq;\n",
        "!ln -s /usr/bin/gcc-5 /usr/local/cuda/bin/gcc;\n",
        "!ln -s /usr/bin/g++-5 /usr/local/cuda/bin/g++;"
      ],
      "execution_count": 0,
      "outputs": []
    },
    {
      "metadata": {
        "id": "_26iiW8S4ECp",
        "colab_type": "code",
        "colab": {}
      },
      "cell_type": "code",
      "source": [
        "import os\n",
        "os.environ[\"NUMBAPRO_CUDA_DRIVER\"] = \"/usr/lib64-nvidia/libcuda.so\"\n",
        "os.environ[\"NUMBAPRO_NVVM\"] = \"/usr/local/cuda-8.0/nvvm/lib64/libnvvm.so\"\n",
        "os.environ[\"NUMBAPRO_LIBDEVICE\"] = \"/usr/local/cuda-8.0/nvvm/libdevice/\"\n",
        "#os.environ[\"LD_LIBRARY_PATH\"] = \"/usr/local/cuda/lib64\""
      ],
      "execution_count": 0,
      "outputs": []
    },
    {
      "metadata": {
        "id": "qvkZoVOv9u_F",
        "colab_type": "code",
        "colab": {
          "base_uri": "https://localhost:8080/",
          "height": 1596
        },
        "outputId": "b4f426fc-765e-405b-ebdc-5dd588742085"
      },
      "cell_type": "code",
      "source": [
        "!numba -s"
      ],
      "execution_count": 4,
      "outputs": [
        {
          "output_type": "stream",
          "text": [
            "System info:\n",
            "--------------------------------------------------------------------------------\n",
            "__Time Stamp__\n",
            "2018-11-03 19:05:03.352049\n",
            "\n",
            "__Hardware Information__\n",
            "Machine                                       : x86_64\n",
            "CPU Name                                      : haswell\n",
            "Number of accessible CPU cores                : 2\n",
            "Listed accessible CPUs cores                  : 0-1\n",
            "CFS restrictions                              : None\n",
            "CPU Features                                  : \n",
            "aes avx avx2 bmi bmi2 cmov cx16 f16c fma fsgsbase lzcnt mmx movbe pclmul popcnt\n",
            "rdrnd sse sse2 sse3 sse4.1 sse4.2 ssse3 xsave xsaveopt\n",
            "\n",
            "__OS Information__\n",
            "Platform                                      : Linux-4.14.65+-x86_64-with-Ubuntu-18.04-bionic\n",
            "Release                                       : 4.14.65+\n",
            "System Name                                   : Linux\n",
            "Version                                       : #1 SMP Sun Sep 9 02:18:33 PDT 2018\n",
            "OS specific info                              : Ubuntu18.04bionic\n",
            "glibc info                                    : glibc 2.9\n",
            "\n",
            "__Python Information__\n",
            "Python Compiler                               : GCC 8.0.1 20180414 (experimental) [trunk revision 259383\n",
            "Python Implementation                         : CPython\n",
            "Python Version                                : 3.6.6\n",
            "Python Locale                                 : en_US UTF-8\n",
            "\n",
            "__LLVM information__\n",
            "LLVM version                                  : 6.0.0\n",
            "\n",
            "__CUDA Information__\n",
            "Found 1 CUDA devices\n",
            "id 0            b'Tesla K80'                              [SUPPORTED]\n",
            "                      compute capability: 3.7\n",
            "                           pci device id: 4\n",
            "                              pci bus id: 0\n",
            "Summary:\n",
            "\t1/1 devices are supported\n",
            "CUDA driver version                           : 9020\n",
            "CUDA libraries:\n",
            "Finding cublas\n",
            "\tERROR: can't locate lib\n",
            "Finding cusparse\n",
            "\tERROR: can't locate lib\n",
            "Finding cufft\n",
            "\tERROR: can't locate lib\n",
            "Finding curand\n",
            "\tERROR: can't locate lib\n",
            "Finding nvvm\n",
            "\tnamed  libnvvm.so\n",
            "\tfinding libdevice for compute_20...\tok\n",
            "\tfinding libdevice for compute_30...\tok\n",
            "\tfinding libdevice for compute_35...\tok\n",
            "\tfinding libdevice for compute_50...\tok\n",
            "\n",
            "__ROC Information__\n",
            "ROC available                                 : False\n",
            "Error initialising ROC due to                 : No ROC toolchains found.\n",
            "No HSA Agents found, encountered exception when searching:\n",
            "Error at driver init: \n",
            "NUMBA_HSA_DRIVER /opt/rocm/lib/libhsa-runtime64.so is not a valid file path.  Note it must be a filepath of the .so/.dll/.dylib or the driver:\n",
            "\n",
            "__SVML Information__\n",
            "SVML state, config.USING_SVML                 : False\n",
            "SVML library found and loaded                 : False\n",
            "llvmlite using SVML patched LLVM              : True\n",
            "SVML operational                              : False\n",
            "\n",
            "__Threading Layer Information__\n",
            "TBB Threading layer available                 : True\n",
            "OpenMP Threading layer available              : False\n",
            "+--> Disabled due to                          : Unknown import problem.\n",
            "Workqueue Threading layer available           : True\n",
            "\n",
            "__Numba Environment Variable Information__\n",
            "None set.\n",
            "\n",
            "__Conda Information__\n",
            "Conda not present/not working.\n",
            "Error was [Errno 2] No such file or directory: 'conda': 'conda'\n",
            "\n",
            "--------------------------------------------------------------------------------\n",
            "If requested, please copy and paste the information between\n",
            "the dashed (----) lines, or from a given specific section as\n",
            "appropriate.\n",
            "\n",
            "=============================================================\n",
            "IMPORTANT: Please ensure that you are happy with sharing the\n",
            "contents of the information present, any information that you\n",
            "wish to keep private you should remove before sharing.\n",
            "=============================================================\n",
            "\n"
          ],
          "name": "stdout"
        }
      ]
    },
    {
      "metadata": {
        "id": "9wh6C6ac7pZJ",
        "colab_type": "text"
      },
      "cell_type": "markdown",
      "source": [
        "# Import"
      ]
    },
    {
      "metadata": {
        "id": "5vndypxM7rGN",
        "colab_type": "code",
        "colab": {}
      },
      "cell_type": "code",
      "source": [
        "import os\n",
        "import numpy as np # Numba supports many functions from numpy (https://numba.pydata.org/numba-doc/dev/reference/numpysupported.html)\n",
        "from numba import jit, njit, vectorize, cuda\n",
        "import math # Numba supports many functions from math (http://numba.pydata.org/numba-doc/0.17.0/reference/pysupported.html)\n",
        "\n",
        "import matplotlib.pyplot as plt"
      ],
      "execution_count": 0,
      "outputs": []
    },
    {
      "metadata": {
        "id": "3bnRKV978fFN",
        "colab_type": "text"
      },
      "cell_type": "markdown",
      "source": [
        "# 4. Using basic numba functionalities (Just @jit it!)"
      ]
    },
    {
      "metadata": {
        "id": "_6DEmDigpMfv",
        "colab_type": "code",
        "colab": {}
      },
      "cell_type": "code",
      "source": [
        "a = np.ones((1, 100), dtype=np.float64)\n",
        "b = np.ones((100, 1), dtype=np.float64)"
      ],
      "execution_count": 0,
      "outputs": []
    },
    {
      "metadata": {
        "id": "V91pNrvmpG-3",
        "colab_type": "code",
        "colab": {}
      },
      "cell_type": "code",
      "source": [
        "#\n",
        "# Simple Python function\n",
        "#\n",
        "\n",
        "def func(a, b):\n",
        "  for i in range(100000):\n",
        "    constant = math.pow((a@b)[0][0], 1./2)/math.exp((a@b)[0][0]/1000)\n",
        "    a = np.array([[constant]*100], dtype=np.float64)\n",
        "  return a"
      ],
      "execution_count": 0,
      "outputs": []
    },
    {
      "metadata": {
        "id": "G9URbB5dpNhJ",
        "colab_type": "code",
        "colab": {
          "base_uri": "https://localhost:8080/",
          "height": 34
        },
        "outputId": "425aadd9-4eff-4223-802a-887a7acc70a4"
      },
      "cell_type": "code",
      "source": [
        "%timeit res = func(a, b)"
      ],
      "execution_count": 8,
      "outputs": [
        {
          "output_type": "stream",
          "text": [
            "1 loop, best of 3: 775 ms per loop\n"
          ],
          "name": "stdout"
        }
      ]
    },
    {
      "metadata": {
        "id": "baBmONpCioUe",
        "colab_type": "code",
        "colab": {}
      },
      "cell_type": "code",
      "source": [
        "#\n",
        "# Numba with nopython = True\n",
        "#\n",
        "\n",
        "@njit      # or @jit(nopython=True)\n",
        "def njit_func(a, b):\n",
        "  for i in range(100000):\n",
        "    constant = math.pow((a@b)[0][0], 1./2)/math.exp((a@b)[0][0]/1000)\n",
        "    a = np.array([[constant]*100], dtype=np.float64)\n",
        "  return a"
      ],
      "execution_count": 0,
      "outputs": []
    },
    {
      "metadata": {
        "id": "-d90HRMllKwr",
        "colab_type": "code",
        "colab": {
          "base_uri": "https://localhost:8080/",
          "height": 34
        },
        "outputId": "6849decb-b67f-48d0-a1d2-cb74dfa802e7"
      },
      "cell_type": "code",
      "source": [
        "%timeit res = njit_func(a, b)"
      ],
      "execution_count": 18,
      "outputs": [
        {
          "output_type": "stream",
          "text": [
            "10 loops, best of 3: 109 ms per loop\n"
          ],
          "name": "stdout"
        }
      ]
    },
    {
      "metadata": {
        "id": "WUEcagVshnon",
        "colab_type": "code",
        "colab": {}
      },
      "cell_type": "code",
      "source": [
        "#\n",
        "# Basic Numba compiler with type information provided\n",
        "#\n",
        "\n",
        "@jit('float64(float64, float64)')\n",
        "def jit_func(a, b):\n",
        "  for i in range(100000):\n",
        "    constant = math.pow((a@b)[0][0], 1./2)/math.exp((a@b)[0][0]/1000)\n",
        "    a = np.array([[constant]*100], dtype=np.float64)\n",
        "  return a"
      ],
      "execution_count": 0,
      "outputs": []
    },
    {
      "metadata": {
        "id": "TbYs5rtup5KX",
        "colab_type": "code",
        "colab": {
          "base_uri": "https://localhost:8080/",
          "height": 34
        },
        "outputId": "a317b078-295a-47e3-8c86-8f538b62e25c"
      },
      "cell_type": "code",
      "source": [
        "%timeit res = jit_func(a, b)"
      ],
      "execution_count": 17,
      "outputs": [
        {
          "output_type": "stream",
          "text": [
            "10 loops, best of 3: 109 ms per loop\n"
          ],
          "name": "stdout"
        }
      ]
    },
    {
      "metadata": {
        "id": "RPMMOCq2uuPQ",
        "colab_type": "code",
        "colab": {
          "base_uri": "https://localhost:8080/",
          "height": 417
        },
        "outputId": "648f342c-7328-41f5-c39d-f79e5bd40162"
      },
      "cell_type": "code",
      "source": [
        "fig, ax = plt.subplots(1, 1)\n",
        "ax.plot([\"a\", \"b\", \"c\"], [821, 447, 440], \"-o\") # Results without caching\n",
        "ax.set_xticklabels([\"pyFunc\", \"Jit\", \"Njit\"])\n",
        "fig.suptitle(\"Basic Numba Functionalities\", fontsize=17)\n",
        "ax.set_ylabel(\"Time (ms)\")\n",
        "ax.set_xlabel(\"Method\")"
      ],
      "execution_count": 27,
      "outputs": [
        {
          "output_type": "execute_result",
          "data": {
            "text/plain": [
              "Text(0.5,0,'Method')"
            ]
          },
          "metadata": {
            "tags": []
          },
          "execution_count": 27
        },
        {
          "output_type": "display_data",
          "data": {
            "image/png": "[encoded data removed]",
            "text/plain": [
              "<matplotlib.figure.Figure at 0x7fabb4936eb8>"
            ]
          },
          "metadata": {
            "tags": []
          }
        }
      ]
    },
    {
      "metadata": {
        "id": "xnOl22rJqHTm",
        "colab_type": "text"
      },
      "cell_type": "markdown",
      "source": [
        "# 5. The @vectorize wrapper"
      ]
    },
    {
      "metadata": {
        "id": "QKNgTakJp_L8",
        "colab_type": "code",
        "colab": {}
      },
      "cell_type": "code",
      "source": [
        "#\n",
        "# Making Ufuncs with Numba.\n",
        "#\n",
        "\n",
        "@vectorize\n",
        "def vec_func(a, b):\n",
        "  # Now we can pass arrays too, and operate\n",
        "  # inside like they are scalars:\n",
        "  for i in range(100000):\n",
        "    a = math.pow(a*b, 1./2)/math.exp(a*b/1000)\n",
        "  return a\n",
        "# This is similar to functions before, for comparison. But..."
      ],
      "execution_count": 0,
      "outputs": []
    },
    {
      "metadata": {
        "id": "hobQGwJCrjEA",
        "colab_type": "code",
        "colab": {
          "base_uri": "https://localhost:8080/",
          "height": 34
        },
        "outputId": "6f89dc77-a79c-43dc-bfee-9b6ba34e9fce"
      },
      "cell_type": "code",
      "source": [
        "%timeit res = vec_func(a, b)"
      ],
      "execution_count": 20,
      "outputs": [
        {
          "output_type": "stream",
          "text": [
            "1 loop, best of 3: 35.4 s per loop\n"
          ],
          "name": "stdout"
        }
      ]
    },
    {
      "metadata": {
        "id": "RrOcEpPgrn6B",
        "colab_type": "code",
        "colab": {}
      },
      "cell_type": "code",
      "source": [
        "#\n",
        "# This is slow because previously we were doing some\n",
        "# operations on 1,00,000 scalars obtained by multiplying\n",
        "# (a@b), but now we are multiplying individual elements \n",
        "# of a and b for 1,00,000 times. Also numba is taking care\n",
        "# of broadcasting too. So, in this case we are applying this\n",
        "# loop for 100 times.\n",
        "#\n",
        "res.shape # Previously it was (1, 100)"
      ],
      "execution_count": 0,
      "outputs": []
    },
    {
      "metadata": {
        "id": "nZSgu8R8sJaM",
        "colab_type": "code",
        "colab": {}
      },
      "cell_type": "code",
      "source": [
        "@vectorize(['float64(float64, float64)'], target='parallel')\n",
        "def vecParallel_func(a, b):\n",
        "  for i in range(100000):\n",
        "    a = math.pow(a*b, 1./2)/math.exp(a*b/1000)\n",
        "  return a"
      ],
      "execution_count": 0,
      "outputs": []
    },
    {
      "metadata": {
        "id": "Z0piW2xJtgHc",
        "colab_type": "code",
        "colab": {
          "base_uri": "https://localhost:8080/",
          "height": 34
        },
        "outputId": "b7fe8658-0237-451b-dca1-78571cb6e8ac"
      },
      "cell_type": "code",
      "source": [
        "%timeit res = vecParallel_func(a, b)"
      ],
      "execution_count": 23,
      "outputs": [
        {
          "output_type": "stream",
          "text": [
            "1 loop, best of 3: 18.6 s per loop\n"
          ],
          "name": "stdout"
        }
      ]
    },
    {
      "metadata": {
        "id": "rLiJPLY0tjvs",
        "colab_type": "code",
        "colab": {}
      },
      "cell_type": "code",
      "source": [
        "@vectorize(['float64(float64, float64)'], target='cuda')\n",
        "def vecCuda_func(a, b):\n",
        "  for i in range(100000):\n",
        "    a = math.pow(a*b, 1./2)/math.exp(a*b/1000)\n",
        "  return a"
      ],
      "execution_count": 0,
      "outputs": []
    },
    {
      "metadata": {
        "id": "naP5t1btub6C",
        "colab_type": "code",
        "colab": {
          "base_uri": "https://localhost:8080/",
          "height": 34
        },
        "outputId": "a9231757-14c6-46a2-841b-8e9105d20caf"
      },
      "cell_type": "code",
      "source": [
        "%timeit res = vecCuda_func(a, b)"
      ],
      "execution_count": 25,
      "outputs": [
        {
          "output_type": "stream",
          "text": [
            "1 loop, best of 3: 282 ms per loop\n"
          ],
          "name": "stdout"
        }
      ]
    },
    {
      "metadata": {
        "id": "ymlt0rKIuhf-",
        "colab_type": "code",
        "colab": {}
      },
      "cell_type": "code",
      "source": [
        "# Woah!!"
      ],
      "execution_count": 0,
      "outputs": []
    },
    {
      "metadata": {
        "id": "fH42xHl5xNiZ",
        "colab_type": "code",
        "colab": {
          "base_uri": "https://localhost:8080/",
          "height": 417
        },
        "outputId": "0d9443e8-a58f-4c59-9c14-90c1a888bad9"
      },
      "cell_type": "code",
      "source": [
        "fig, ax = plt.subplots(1, 1)\n",
        "ax.plot([\"a\", \"b\", \"c\"], [35.8, 19.2, 0.568], \"-o\")\n",
        "ax.set_xticklabels([\"Vectorize\", \"Vectorize Parallel\", \"Vectorize Cuda\"])\n",
        "fig.suptitle(\"@vectorize wrapper\", fontsize=17)\n",
        "ax.set_ylabel(\"Time (sec)\")\n",
        "ax.set_xlabel(\"Method\")"
      ],
      "execution_count": 162,
      "outputs": [
        {
          "output_type": "execute_result",
          "data": {
            "text/plain": [
              "Text(0.5,0,'Method')"
            ]
          },
          "metadata": {
            "tags": []
          },
          "execution_count": 162
        },
        {
          "output_type": "display_data",
          "data": {
            "image/png": "[encoded data removed]",
            "text/plain": [
              "<matplotlib.figure.Figure at 0x7f52593bcd68>"
            ]
          },
          "metadata": {
            "tags": []
          }
        }
      ]
    },
    {
      "metadata": {
        "id": "P1VRyAOtzrYD",
        "colab_type": "text"
      },
      "cell_type": "markdown",
      "source": [
        "# 6. Running your functions on GPU\n"
      ]
    },
    {
      "metadata": {
        "id": "J3_Zv57yxsBV",
        "colab_type": "code",
        "colab": {}
      },
      "cell_type": "code",
      "source": [
        "@cuda.jit\n",
        "def cudaKernal_func(a, b, result): # cuda.jit does not return result yet\n",
        "  pos = cuda.grid(1)\n",
        "  if (pos < a.shape[1]) and (pos < b.shape[0]):\n",
        "    for i in range(100000):\n",
        "      result[pos] = math.exp(a[0][pos]*b[pos][0])"
      ],
      "execution_count": 0,
      "outputs": []
    },
    {
      "metadata": {
        "id": "S4pShvAI1YjR",
        "colab_type": "code",
        "colab": {}
      },
      "cell_type": "code",
      "source": [
        "result = np.zeros((100,), dtype=np.float64)"
      ],
      "execution_count": 0,
      "outputs": []
    },
    {
      "metadata": {
        "id": "RxlLDdbT1gFf",
        "colab_type": "code",
        "colab": {
          "base_uri": "https://localhost:8080/",
          "height": 34
        },
        "outputId": "d5419ec2-d734-4635-9e90-e6f50b47ec05"
      },
      "cell_type": "code",
      "source": [
        "threadsperblock = 32\n",
        "blockspergrid = (100 + 31) // 32 # blockspergrid = (array.size + (threadsperblock - 1)) // threadsperblock\n",
        "\n",
        "%timeit cudaKernal_func[threadsperblock, blockspergrid](a, b, result)"
      ],
      "execution_count": 30,
      "outputs": [
        {
          "output_type": "stream",
          "text": [
            "1 loop, best of 3: 66.2 ms per loop\n"
          ],
          "name": "stdout"
        }
      ]
    },
    {
      "metadata": {
        "id": "I0Q2FOAk1rXw",
        "colab_type": "code",
        "colab": {
          "base_uri": "https://localhost:8080/",
          "height": 34
        },
        "outputId": "a12d6f7d-acd0-4277-d0c5-f3760eadd5f2"
      },
      "cell_type": "code",
      "source": [
        "result.shape"
      ],
      "execution_count": 31,
      "outputs": [
        {
          "output_type": "execute_result",
          "data": {
            "text/plain": [
              "(100,)"
            ]
          },
          "metadata": {
            "tags": []
          },
          "execution_count": 31
        }
      ]
    },
    {
      "metadata": {
        "id": "1DjchmIF13_j",
        "colab_type": "code",
        "colab": {}
      },
      "cell_type": "code",
      "source": [
        "#\n",
        "# Here, we have only used it for 1D arrays. You can use it for any Tensor. For eg:\n",
        "# For 2D array operations you would have used: x, y = cuda.grid(2)\n",
        "#"
      ],
      "execution_count": 0,
      "outputs": []
    },
    {
      "metadata": {
        "id": "e1snDXNG3c9A",
        "colab_type": "code",
        "colab": {}
      },
      "cell_type": "code",
      "source": [
        "@cuda.jit(device=True)\n",
        "def cudaDevice_func(a, b):\n",
        "  for i in range(100000):\n",
        "    a = math.exp(a*b)\n",
        "  return a"
      ],
      "execution_count": 0,
      "outputs": []
    },
    {
      "metadata": {
        "id": "dgv5aV6n3wgv",
        "colab_type": "code",
        "colab": {}
      },
      "cell_type": "code",
      "source": [
        "@cuda.jit\n",
        "def cudaKernal_func2(a, b, result): # cuda.jit does not return result yet\n",
        "  pos = cuda.grid(1)\n",
        "  if (pos < a.shape[1]) and (pos < b.shape[0]):\n",
        "    result[pos] = cudaDevice_func(a[0][pos], b[pos][0])"
      ],
      "execution_count": 0,
      "outputs": []
    },
    {
      "metadata": {
        "id": "Ro7kzwPS32vv",
        "colab_type": "code",
        "colab": {
          "base_uri": "https://localhost:8080/",
          "height": 50
        },
        "outputId": "2c5866c2-7e8c-4cc5-ebcf-fd4492a7464f"
      },
      "cell_type": "code",
      "source": [
        "%timeit cudaKernal_func2[threadsperblock, blockspergrid](a, b, result)"
      ],
      "execution_count": 35,
      "outputs": [
        {
          "output_type": "stream",
          "text": [
            "The slowest run took 5.08 times longer than the fastest. This could mean that an intermediate result is being cached.\n",
            "1 loop, best of 3: 41.4 ms per loop\n"
          ],
          "name": "stdout"
        }
      ]
    }
  ]
}
